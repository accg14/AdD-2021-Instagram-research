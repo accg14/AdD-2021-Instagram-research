{
 "cells": [
  {
   "cell_type": "markdown",
   "id": "417efa82",
   "metadata": {},
   "source": [
    "# Introducción\n",
    "El siguiente notebook estudia las relaciones entre los actores más destacados -_influencers_-de la comunidad del deporte en UY.\n",
    "El estudio se centra en encontrar al actor fundamental, es decir con la mayor ponderación (definida más adelante) de dicha comunidad a partir de la construcción de un digrafo donde las nodos son dichos actores, los arcos relaciones (seguimiento en la red Instagram) y distintas medidas de peso de los nodos:\n",
    "* Centralidad de intermediación | _betweenness_\n",
    "* Centralidad de grado (incidente) | _in degree_\n",
    "* Cantidad de seguidores (total de la comunidad)\n",
    "\n",
    "Además, la topología del grafo es examinada en pos de reconocer comunidades dentro de este selecto grupo.\n"
   ]
  },
  {
   "cell_type": "code",
   "execution_count": 1,
   "id": "d9f8359d",
   "metadata": {},
   "outputs": [],
   "source": [
    "import pdb\n",
    "import csv\n",
    "import statistics\n",
    "import networkx as nx\n",
    "import numpy as np\n",
    "from IPython.display import SVG\n",
    "\n",
    "from influencers import INFLUENCERS_COMMUNITY\n",
    "\n",
    "import sknetwork\n",
    "from sknetwork.visualization import svg_digraph\n",
    "from sknetwork.utils import edgelist2adjacency\n",
    "from sknetwork.data import convert_edge_list\n",
    "from sknetwork.ranking import Katz\n",
    "\n",
    "import matplotlib.pyplot as plt"
   ]
  },
  {
   "cell_type": "markdown",
   "id": "74aa78a3",
   "metadata": {},
   "source": [
    "# Construcción del grafo ⚙️"
   ]
  },
  {
   "cell_type": "code",
   "execution_count": 2,
   "id": "f8e2b7ef",
   "metadata": {},
   "outputs": [],
   "source": [
    "candidates = {}\n",
    "edges = []\n",
    "nodes = []\n",
    "nodes_names = []\n",
    "node_weights = []"
   ]
  },
  {
   "cell_type": "markdown",
   "id": "f99f8b39",
   "metadata": {},
   "source": [
    "## Extracción desde las fuentes 🗄\n",
    "La extracción sobre los perfiles se obtiene a partir de un archivo JSON generado manualmente. El enfoque inicial consistía en recuperar información exhaustiva de los perfiles empleando el repositorio [Instagram-Follower-Scraper](https://github.com/amitupreti/Instagram-Follower-Scraper), pero luego de obtener una cantidad menor de seguidores (40% aprox), la IP desde donde se ejecuta es agregada a una lista negra por más de 24hs, por lo que quedó fuera del alcance por no escalar. ❌"
   ]
  },
  {
   "cell_type": "code",
   "execution_count": 3,
   "id": "e12862f3",
   "metadata": {},
   "outputs": [],
   "source": [
    "for influencer in INFLUENCERS_COMMUNITY.keys():\n",
    "    node_id = INFLUENCERS_COMMUNITY[influencer]['id']\n",
    "    node_name = influencer\n",
    "    node_weight = INFLUENCERS_COMMUNITY[influencer]['total_followers']\n",
    "    node_edges = INFLUENCERS_COMMUNITY[influencer]['influencers_followers']\n",
    "    \n",
    "    nodes_names.append(node_name)\n",
    "    node_weights.append(node_weight)\n",
    "\n",
    "    for neighbor_node in node_edges:\n",
    "        neighbor_id = INFLUENCERS_COMMUNITY[neighbor_node]['id']\n",
    "        edges.append((neighbor_id, node_id))"
   ]
  },
  {
   "cell_type": "markdown",
   "id": "c4e97ee4",
   "metadata": {},
   "source": [
    "## Construcción del grafo base 💻\n",
    "El grafo base es generado a partir de una lista de adyancencia y de manera dual, utilizando las librerías [sknetwork](https://scikit-network.readthedocs.io/en/latest/) para visualización y [networkx](https://networkx.org/) para el estudio del mismo."
   ]
  },
  {
   "cell_type": "code",
   "execution_count": 4,
   "id": "46ab917c",
   "metadata": {},
   "outputs": [],
   "source": [
    "skn_graph = convert_edge_list(edges, directed=True) # sknetwork graph \n",
    "netx_graph = nx.convert_matrix.from_scipy_sparse_matrix(skn_graph.adjacency, create_using=nx.DiGraph) #networkx"
   ]
  },
  {
   "cell_type": "markdown",
   "id": "799e6989",
   "metadata": {},
   "source": [
    "Los candidatos son puntuados durante el estudio, donde los primeros tres _rankeados_ generan una puntuación para eventualmente ser elegidos como el candidato más adecuado."
   ]
  },
  {
   "cell_type": "code",
   "execution_count": 5,
   "id": "dbf7c66f",
   "metadata": {},
   "outputs": [],
   "source": [
    "def save_candidate(candidate, position):\n",
    "    points = 3 - position\n",
    "    candidates[candidate] = candidates.get(candidate, 0) + points"
   ]
  },
  {
   "cell_type": "markdown",
   "id": "19cf3354",
   "metadata": {},
   "source": [
    "# Estudio de centralidad"
   ]
  },
  {
   "cell_type": "code",
   "execution_count": 6,
   "id": "648a0ac1",
   "metadata": {},
   "outputs": [],
   "source": [
    "def list_nodes_centrality(centrality):\n",
    "    nodes_centrality = []\n",
    "    for key in centrality.keys():\n",
    "        centrality_value = centrality[key]\n",
    "        nodes_centrality.append(centrality_value)\n",
    "    return nodes_centrality"
   ]
  },
  {
   "cell_type": "code",
   "execution_count": 7,
   "id": "e8554d89",
   "metadata": {},
   "outputs": [],
   "source": [
    "def show_main_influencers(nodes_centralities, centrality_type):\n",
    "    zipped_nodes = list(zip(nodes_names, nodes_centralities))\n",
    "    zipped_nodes.sort(key=lambda x: x[1], reverse=True)\n",
    "    podium = zipped_nodes[:3]\n",
    "    print(\"\\033[1m\"+\"Influencers con mayor centralidad\"+\"\\033[0m\")\n",
    "    for spot in podium:\n",
    "        candidate_pos = podium.index(spot)\n",
    "        save_candidate(spot[0], candidate_pos)\n",
    "        print(\"Influencer: \"+spot[0])\n",
    "        print(\"     \"+centrality_type+\": \"+str(spot[1]))\n",
    "        print(\"------------------------------------------\")"
   ]
  },
  {
   "cell_type": "markdown",
   "id": "0126e12b",
   "metadata": {},
   "source": [
    "## Centralidad de intermediación 'betweenness'\n",
    "Estudio de la centralidad desde el enfoque de intermediación."
   ]
  },
  {
   "cell_type": "code",
   "execution_count": 8,
   "id": "f2b0ad4e",
   "metadata": {},
   "outputs": [],
   "source": [
    "betweenness_centrality = nx.betweenness_centrality(netx_graph)"
   ]
  },
  {
   "cell_type": "code",
   "execution_count": 9,
   "id": "8866a3d7",
   "metadata": {},
   "outputs": [],
   "source": [
    "betweenness_centrality_weights = list_nodes_centrality(betweenness_centrality)"
   ]
  },
  {
   "cell_type": "code",
   "execution_count": 10,
   "id": "1271a916",
   "metadata": {},
   "outputs": [
    {
     "name": "stdout",
     "output_type": "stream",
     "text": [
      "\u001b[1mInfluencers con mayor centralidad\u001b[0m\n",
      "Influencer: jimenaalzogaray._\n",
      "     betweenness_centrality: 0.23636363636363636\n",
      "------------------------------------------\n",
      "Influencer: fedesfit\n",
      "     betweenness_centrality: 0.1393939393939394\n",
      "------------------------------------------\n",
      "Influencer: vico_frascolla\n",
      "     betweenness_centrality: 0.12121212121212122\n",
      "------------------------------------------\n"
     ]
    }
   ],
   "source": [
    "show_main_influencers(betweenness_centrality_weights, 'betweenness_centrality')"
   ]
  },
  {
   "cell_type": "code",
   "execution_count": 11,
   "id": "25d152f2",
   "metadata": {},
   "outputs": [
    {
     "name": "stdout",
     "output_type": "stream",
     "text": [
      "Visualización del grafo\n"
     ]
    },
    {
     "data": {
      "image/svg+xml": [
       "<svg xmlns=\"http://www.w3.org/2000/svg\" width=\"578.0\" height=\"340\">\n",
       "<defs><marker id=\"arrow\" markerWidth=\"10\" markerHeight=\"10\" refX=\"9\" refY=\"3\" orient=\"auto\">\n",
       "<path d=\"M0,0 L0,6 L9,3 z\" fill=\"gray\"/></marker></defs>\n",
       "<path stroke-width=\"1\" stroke=\"gray\" d=\"M 234 121 202 86\" marker-end=\"url(#arrow)\"/>\n",
       "<path stroke-width=\"1\" stroke=\"gray\" d=\"M 217 169 233 124\" marker-end=\"url(#arrow)\"/>\n",
       "<path stroke-width=\"1\" stroke=\"gray\" d=\"M 217 169 273 243\" marker-end=\"url(#arrow)\"/>\n",
       "<path stroke-width=\"1\" stroke=\"gray\" d=\"M 217 169 153 216\" marker-end=\"url(#arrow)\"/>\n",
       "<path stroke-width=\"1\" stroke=\"gray\" d=\"M 217 169 159 155\" marker-end=\"url(#arrow)\"/>\n",
       "<path stroke-width=\"1\" stroke=\"gray\" d=\"M 217 169 266 166\" marker-end=\"url(#arrow)\"/>\n",
       "<path stroke-width=\"1\" stroke=\"gray\" d=\"M 156 155 199 87\" marker-end=\"url(#arrow)\"/>\n",
       "<path stroke-width=\"1\" stroke=\"gray\" d=\"M 148 220 267 170\" marker-end=\"url(#arrow)\"/>\n",
       "<path stroke-width=\"1\" stroke=\"gray\" d=\"M 156 155 198 165\" marker-end=\"url(#arrow)\"/>\n",
       "<path stroke-width=\"1\" stroke=\"gray\" d=\"M 276 166 420 235\" marker-end=\"url(#arrow)\"/>\n",
       "<path stroke-width=\"1\" stroke=\"gray\" d=\"M 276 166 202 86\" marker-end=\"url(#arrow)\"/>\n",
       "<path stroke-width=\"1\" stroke=\"gray\" d=\"M 276 166 236 168\" marker-end=\"url(#arrow)\"/>\n",
       "<path stroke-width=\"1\" stroke=\"gray\" d=\"M 224 234 234 124\" marker-end=\"url(#arrow)\"/>\n",
       "<path stroke-width=\"1\" stroke=\"gray\" d=\"M 224 234 269 249\" marker-end=\"url(#arrow)\"/>\n",
       "<path stroke-width=\"1\" stroke=\"gray\" d=\"M 224 234 154 221\" marker-end=\"url(#arrow)\"/>\n",
       "<path stroke-width=\"1\" stroke=\"gray\" d=\"M 276 166 236 123\" marker-end=\"url(#arrow)\"/>\n",
       "<path stroke-width=\"1\" stroke=\"gray\" d=\"M 148 220 156 158\" marker-end=\"url(#arrow)\"/>\n",
       "<path stroke-width=\"1\" stroke=\"gray\" d=\"M 148 220 201 180\" marker-end=\"url(#arrow)\"/>\n",
       "<path stroke-width=\"1\" stroke=\"gray\" d=\"M 148 220 232 123\" marker-end=\"url(#arrow)\"/>\n",
       "<path stroke-width=\"1\" stroke=\"gray\" d=\"M 234 121 223 151\" marker-end=\"url(#arrow)\"/>\n",
       "<path stroke-width=\"1\" stroke=\"gray\" d=\"M 234 121 269 159\" marker-end=\"url(#arrow)\"/>\n",
       "<path stroke-width=\"1\" stroke=\"gray\" d=\"M 371 320 420 235\" marker-end=\"url(#arrow)\"/>\n",
       "<path stroke-width=\"1\" stroke=\"gray\" d=\"M 371 320 289 259\" marker-end=\"url(#arrow)\"/>\n",
       "<path stroke-width=\"1\" stroke=\"gray\" d=\"M 220 20 234 118\" marker-end=\"url(#arrow)\"/>\n",
       "<path stroke-width=\"1\" stroke=\"gray\" d=\"M 220 20 201 81\" marker-end=\"url(#arrow)\"/>\n",
       "<path stroke-width=\"1\" stroke=\"gray\" d=\"M 220 20 217 150\" marker-end=\"url(#arrow)\"/>\n",
       "<path stroke-width=\"1\" stroke=\"gray\" d=\"M 280 252 370 320\" marker-end=\"url(#arrow)\"/>\n",
       "<path stroke-width=\"1\" stroke=\"gray\" d=\"M 280 252 229 184\" marker-end=\"url(#arrow)\"/>\n",
       "<path stroke-width=\"1\" stroke=\"gray\" d=\"M 280 252 158 157\" marker-end=\"url(#arrow)\"/>\n",
       "<path stroke-width=\"1\" stroke=\"gray\" d=\"M 280 252 276 176\" marker-end=\"url(#arrow)\"/>\n",
       "<path stroke-width=\"1\" stroke=\"gray\" d=\"M 20 305 143 223\" marker-end=\"url(#arrow)\"/>\n",
       "<path stroke-width=\"1\" stroke=\"gray\" d=\"M 200 84 232 119\" marker-end=\"url(#arrow)\"/>\n",
       "<path stroke-width=\"1\" stroke=\"gray\" d=\"M 200 84 157 153\" marker-end=\"url(#arrow)\"/>\n",
       "<path stroke-width=\"1\" stroke=\"gray\" d=\"M 200 84 269 159\" marker-end=\"url(#arrow)\"/>\n",
       "<path stroke-width=\"1\" stroke=\"gray\" d=\"M 224 234 219 188\" marker-end=\"url(#arrow)\"/>\n",
       "<path stroke-width=\"1\" stroke=\"gray\" d=\"M 224 234 270 174\" marker-end=\"url(#arrow)\"/>\n",
       "<circle cx=\"234\" cy=\"121\" r=\"3.5576923076923075\" style=\"fill:gray;stroke:black;stroke-width:1.0\"/>\n",
       "<circle cx=\"371\" cy=\"320\" r=\"1.3653846153846154\" style=\"fill:gray;stroke:black;stroke-width:1.0\"/>\n",
       "<circle cx=\"420\" cy=\"235\" r=\"1.0\" style=\"fill:gray;stroke:black;stroke-width:1.0\"/>\n",
       "<circle cx=\"220\" cy=\"20\" r=\"1.0\" style=\"fill:gray;stroke:black;stroke-width:1.0\"/>\n",
       "<circle cx=\"280\" cy=\"252\" r=\"12.205128205128204\" style=\"fill:gray;stroke:black;stroke-width:1.0\"/>\n",
       "<circle cx=\"20\" cy=\"305\" r=\"1.0\" style=\"fill:gray;stroke:black;stroke-width:1.0\"/>\n",
       "<circle cx=\"200\" cy=\"84\" r=\"3.6794871794871793\" style=\"fill:gray;stroke:black;stroke-width:1.0\"/>\n",
       "<circle cx=\"148\" cy=\"220\" r=\"7.089743589743589\" style=\"fill:gray;stroke:black;stroke-width:1.0\"/>\n",
       "<circle cx=\"217\" cy=\"169\" r=\"20.0\" style=\"fill:gray;stroke:black;stroke-width:1.0\"/>\n",
       "<circle cx=\"156\" cy=\"155\" r=\"3.435897435897436\" style=\"fill:gray;stroke:black;stroke-width:1.0\"/>\n",
       "<circle cx=\"276\" cy=\"166\" r=\"10.743589743589745\" style=\"fill:gray;stroke:black;stroke-width:1.0\"/>\n",
       "<circle cx=\"224\" cy=\"234\" r=\"1.0\" style=\"fill:gray;stroke:black;stroke-width:1.0\"/>\n",
       "<text x=\"247\" y=\"124\" font-size=\"12\">santicomba</text><text x=\"382\" y=\"321\" font-size=\"12\">maitef.fitness</text><text x=\"431\" y=\"236\" font-size=\"12\">ivi_quirog</text><text x=\"231\" y=\"21\" font-size=\"12\">entrenamiento_trouville</text><text x=\"303\" y=\"265\" font-size=\"12\">fedesfit</text><text x=\"31\" y=\"306\" font-size=\"12\">maguitolosa1</text><text x=\"213\" y=\"87\" font-size=\"12\">fit_person</text><text x=\"165\" y=\"227\" font-size=\"12\">gentuli</text><text x=\"247\" y=\"189\" font-size=\"12\">jimenaalzogaray._</text><text x=\"169\" y=\"159\" font-size=\"12\">jmseitun</text><text x=\"297\" y=\"177\" font-size=\"12\">vico_frascolla</text><text x=\"235\" y=\"235\" font-size=\"12\">cami.filmel</text></svg>"
      ],
      "text/plain": [
       "<IPython.core.display.SVG object>"
      ]
     },
     "execution_count": 11,
     "metadata": {},
     "output_type": "execute_result"
    }
   ],
   "source": [
    "image = svg_digraph(skn_graph.adjacency,names=nodes_names,display_node_weight=True,node_weights = np.array(betweenness_centrality_weights))\n",
    "print(\"Visualización del grafo\")\n",
    "SVG(image)"
   ]
  },
  {
   "cell_type": "markdown",
   "id": "7f5b89bb",
   "metadata": {},
   "source": [
    "## Centralidad de grado 'in degree'"
   ]
  },
  {
   "cell_type": "code",
   "execution_count": 12,
   "id": "2b38acaf",
   "metadata": {},
   "outputs": [],
   "source": [
    "in_degree_centrality = nx.in_degree_centrality(netx_graph)"
   ]
  },
  {
   "cell_type": "code",
   "execution_count": 13,
   "id": "fbe07289",
   "metadata": {},
   "outputs": [],
   "source": [
    "in_degree_centrality_weights = list_nodes_centrality(in_degree_centrality)"
   ]
  },
  {
   "cell_type": "code",
   "execution_count": 14,
   "id": "cd510e81",
   "metadata": {},
   "outputs": [
    {
     "name": "stdout",
     "output_type": "stream",
     "text": [
      "\u001b[1mInfluencers con mayor centralidad\u001b[0m\n",
      "Influencer: jimenaalzogaray._\n",
      "     in_degree_centrality: 0.6363636363636364\n",
      "------------------------------------------\n",
      "Influencer: santicomba\n",
      "     in_degree_centrality: 0.5454545454545454\n",
      "------------------------------------------\n",
      "Influencer: vico_frascolla\n",
      "     in_degree_centrality: 0.5454545454545454\n",
      "------------------------------------------\n"
     ]
    }
   ],
   "source": [
    "show_main_influencers(in_degree_centrality_weights, 'in_degree_centrality')"
   ]
  },
  {
   "cell_type": "code",
   "execution_count": 15,
   "id": "cf6b42ed",
   "metadata": {},
   "outputs": [
    {
     "name": "stdout",
     "output_type": "stream",
     "text": [
      "Visualización del grafo\n"
     ]
    },
    {
     "data": {
      "image/svg+xml": [
       "<svg xmlns=\"http://www.w3.org/2000/svg\" width=\"578.0\" height=\"340\">\n",
       "<defs><marker id=\"arrow\" markerWidth=\"10\" markerHeight=\"10\" refX=\"9\" refY=\"3\" orient=\"auto\">\n",
       "<path d=\"M0,0 L0,6 L9,3 z\" fill=\"gray\"/></marker></defs>\n",
       "<path stroke-width=\"1\" stroke=\"gray\" d=\"M 310 105 332 153\" marker-end=\"url(#arrow)\"/>\n",
       "<path stroke-width=\"1\" stroke=\"gray\" d=\"M 256 128 295 111\" marker-end=\"url(#arrow)\"/>\n",
       "<path stroke-width=\"1\" stroke=\"gray\" d=\"M 256 128 154 83\" marker-end=\"url(#arrow)\"/>\n",
       "<path stroke-width=\"1\" stroke=\"gray\" d=\"M 256 128 197 184\" marker-end=\"url(#arrow)\"/>\n",
       "<path stroke-width=\"1\" stroke=\"gray\" d=\"M 256 128 262 187\" marker-end=\"url(#arrow)\"/>\n",
       "<path stroke-width=\"1\" stroke=\"gray\" d=\"M 256 128 225 122\" marker-end=\"url(#arrow)\"/>\n",
       "<path stroke-width=\"1\" stroke=\"gray\" d=\"M 263 198 327 168\" marker-end=\"url(#arrow)\"/>\n",
       "<path stroke-width=\"1\" stroke=\"gray\" d=\"M 191 190 204 136\" marker-end=\"url(#arrow)\"/>\n",
       "<path stroke-width=\"1\" stroke=\"gray\" d=\"M 263 198 257 147\" marker-end=\"url(#arrow)\"/>\n",
       "<path stroke-width=\"1\" stroke=\"gray\" d=\"M 208 120 26 99\" marker-end=\"url(#arrow)\"/>\n",
       "<path stroke-width=\"1\" stroke=\"gray\" d=\"M 208 120 326 160\" marker-end=\"url(#arrow)\"/>\n",
       "<path stroke-width=\"1\" stroke=\"gray\" d=\"M 208 120 237 125\" marker-end=\"url(#arrow)\"/>\n",
       "<path stroke-width=\"1\" stroke=\"gray\" d=\"M 228 53 296 96\" marker-end=\"url(#arrow)\"/>\n",
       "<path stroke-width=\"1\" stroke=\"gray\" d=\"M 228 53 154 78\" marker-end=\"url(#arrow)\"/>\n",
       "<path stroke-width=\"1\" stroke=\"gray\" d=\"M 228 53 193 182\" marker-end=\"url(#arrow)\"/>\n",
       "<path stroke-width=\"1\" stroke=\"gray\" d=\"M 208 120 293 107\" marker-end=\"url(#arrow)\"/>\n",
       "<path stroke-width=\"1\" stroke=\"gray\" d=\"M 191 190 252 197\" marker-end=\"url(#arrow)\"/>\n",
       "<path stroke-width=\"1\" stroke=\"gray\" d=\"M 191 190 242 141\" marker-end=\"url(#arrow)\"/>\n",
       "<path stroke-width=\"1\" stroke=\"gray\" d=\"M 191 190 296 115\" marker-end=\"url(#arrow)\"/>\n",
       "<path stroke-width=\"1\" stroke=\"gray\" d=\"M 310 105 274 121\" marker-end=\"url(#arrow)\"/>\n",
       "<path stroke-width=\"1\" stroke=\"gray\" d=\"M 310 105 225 118\" marker-end=\"url(#arrow)\"/>\n",
       "<path stroke-width=\"1\" stroke=\"gray\" d=\"M 33 20 21 93\" marker-end=\"url(#arrow)\"/>\n",
       "<path stroke-width=\"1\" stroke=\"gray\" d=\"M 33 20 138 76\" marker-end=\"url(#arrow)\"/>\n",
       "<path stroke-width=\"1\" stroke=\"gray\" d=\"M 420 109 327 105\" marker-end=\"url(#arrow)\"/>\n",
       "<path stroke-width=\"1\" stroke=\"gray\" d=\"M 420 109 346 157\" marker-end=\"url(#arrow)\"/>\n",
       "<path stroke-width=\"1\" stroke=\"gray\" d=\"M 420 109 275 126\" marker-end=\"url(#arrow)\"/>\n",
       "<path stroke-width=\"1\" stroke=\"gray\" d=\"M 146 80 36 21\" marker-end=\"url(#arrow)\"/>\n",
       "<path stroke-width=\"1\" stroke=\"gray\" d=\"M 146 80 238 121\" marker-end=\"url(#arrow)\"/>\n",
       "<path stroke-width=\"1\" stroke=\"gray\" d=\"M 146 80 255 190\" marker-end=\"url(#arrow)\"/>\n",
       "<path stroke-width=\"1\" stroke=\"gray\" d=\"M 146 80 194 111\" marker-end=\"url(#arrow)\"/>\n",
       "<path stroke-width=\"1\" stroke=\"gray\" d=\"M 86 320 186 197\" marker-end=\"url(#arrow)\"/>\n",
       "<path stroke-width=\"1\" stroke=\"gray\" d=\"M 337 163 317 120\" marker-end=\"url(#arrow)\"/>\n",
       "<path stroke-width=\"1\" stroke=\"gray\" d=\"M 337 163 273 193\" marker-end=\"url(#arrow)\"/>\n",
       "<path stroke-width=\"1\" stroke=\"gray\" d=\"M 337 163 224 125\" marker-end=\"url(#arrow)\"/>\n",
       "<path stroke-width=\"1\" stroke=\"gray\" d=\"M 228 53 249 110\" marker-end=\"url(#arrow)\"/>\n",
       "<path stroke-width=\"1\" stroke=\"gray\" d=\"M 228 53 213 104\" marker-end=\"url(#arrow)\"/>\n",
       "<circle cx=\"310\" cy=\"105\" r=\"17.285714285714285\" style=\"fill:gray;stroke:black;stroke-width:1.0\"/>\n",
       "<circle cx=\"33\" cy=\"20\" r=\"3.7142857142857144\" style=\"fill:gray;stroke:black;stroke-width:1.0\"/>\n",
       "<circle cx=\"20\" cy=\"99\" r=\"6.428571428571429\" style=\"fill:gray;stroke:black;stroke-width:1.0\"/>\n",
       "<circle cx=\"420\" cy=\"109\" r=\"1.0\" style=\"fill:gray;stroke:black;stroke-width:1.0\"/>\n",
       "<circle cx=\"146\" cy=\"80\" r=\"9.142857142857142\" style=\"fill:gray;stroke:black;stroke-width:1.0\"/>\n",
       "<circle cx=\"86\" cy=\"320\" r=\"1.0\" style=\"fill:gray;stroke:black;stroke-width:1.0\"/>\n",
       "<circle cx=\"337\" cy=\"163\" r=\"11.857142857142858\" style=\"fill:gray;stroke:black;stroke-width:1.0\"/>\n",
       "<circle cx=\"191\" cy=\"190\" r=\"9.142857142857142\" style=\"fill:gray;stroke:black;stroke-width:1.0\"/>\n",
       "<circle cx=\"256\" cy=\"128\" r=\"20.0\" style=\"fill:gray;stroke:black;stroke-width:1.0\"/>\n",
       "<circle cx=\"263\" cy=\"198\" r=\"11.857142857142858\" style=\"fill:gray;stroke:black;stroke-width:1.0\"/>\n",
       "<circle cx=\"208\" cy=\"120\" r=\"17.285714285714285\" style=\"fill:gray;stroke:black;stroke-width:1.0\"/>\n",
       "<circle cx=\"228\" cy=\"53\" r=\"1.0\" style=\"fill:gray;stroke:black;stroke-width:1.0\"/>\n",
       "<text x=\"337\" y=\"122\" font-size=\"12\">santicomba</text><text x=\"46\" y=\"23\" font-size=\"12\">maitef.fitness</text><text x=\"36\" y=\"105\" font-size=\"12\">ivi_quirog</text><text x=\"431\" y=\"110\" font-size=\"12\">entrenamiento_trouville</text><text x=\"165\" y=\"89\" font-size=\"12\">fedesfit</text><text x=\"97\" y=\"321\" font-size=\"12\">maguitolosa1</text><text x=\"359\" y=\"175\" font-size=\"12\">fit_person</text><text x=\"210\" y=\"199\" font-size=\"12\">gentuli</text><text x=\"286\" y=\"148\" font-size=\"12\">jimenaalzogaray._</text><text x=\"284\" y=\"209\" font-size=\"12\">jmseitun</text><text x=\"235\" y=\"137\" font-size=\"12\">vico_frascolla</text><text x=\"239\" y=\"54\" font-size=\"12\">cami.filmel</text></svg>"
      ],
      "text/plain": [
       "<IPython.core.display.SVG object>"
      ]
     },
     "execution_count": 15,
     "metadata": {},
     "output_type": "execute_result"
    }
   ],
   "source": [
    "image = svg_digraph(skn_graph.adjacency,names=nodes_names,display_node_weight=True,node_weights = np.array(in_degree_centrality_weights))\n",
    "print(\"Visualización del grafo\")\n",
    "SVG(image)"
   ]
  },
  {
   "cell_type": "markdown",
   "id": "3fcf962a",
   "metadata": {},
   "source": [
    "## Componentes (fuertemente) conexas"
   ]
  },
  {
   "cell_type": "code",
   "execution_count": 16,
   "id": "2fe3e857",
   "metadata": {},
   "outputs": [],
   "source": [
    "def get_nodes_names(connected_component):\n",
    "    connected_component_list = list(connected_component)\n",
    "    connected_component_names = list(map(lambda x: nodes_names[x], connected_component_list))\n",
    "    return connected_component_names"
   ]
  },
  {
   "cell_type": "code",
   "execution_count": 17,
   "id": "d9da2676",
   "metadata": {},
   "outputs": [],
   "source": [
    "def get_connected_components(graph):\n",
    "    final = []\n",
    "    connected_components = list(nx.strongly_connected_components(graph))\n",
    "    for connected_component in connected_components:\n",
    "        connected_component_names = get_nodes_names(connected_component)\n",
    "        final.append(connected_component_names)\n",
    "    sorted_final = list(sorted(final, key = lambda x: len(x)))\n",
    "    return sorted_final"
   ]
  },
  {
   "cell_type": "code",
   "execution_count": 18,
   "id": "fb3ee318",
   "metadata": {},
   "outputs": [],
   "source": [
    "connected_components = get_connected_components(netx_graph)\n",
    "\n",
    "labels = sknetwork.topology.connected_components(skn_graph.adjacency, connection='strong')\n",
    "names = nodes_names\n",
    "image = svg_digraph(skn_graph.adjacency,names=nodes_names, labels=labels)"
   ]
  },
  {
   "cell_type": "code",
   "execution_count": 19,
   "id": "394045fb",
   "metadata": {},
   "outputs": [
    {
     "name": "stdout",
     "output_type": "stream",
     "text": [
      "\u001b[1mComponente conexa:\u001b[0m\n",
      "   Nodos:\n",
      "     ivi_quirog\n",
      "------------------------------------------\n",
      "\u001b[1mComponente conexa:\u001b[0m\n",
      "   Nodos:\n",
      "     entrenamiento_trouville\n",
      "------------------------------------------\n",
      "\u001b[1mComponente conexa:\u001b[0m\n",
      "   Nodos:\n",
      "     maguitolosa1\n",
      "------------------------------------------\n",
      "\u001b[1mComponente conexa:\u001b[0m\n",
      "   Nodos:\n",
      "     cami.filmel\n",
      "------------------------------------------\n",
      "\u001b[1mComponente conexa:\u001b[0m\n",
      "   Nodos:\n",
      "     santicomba\n",
      "     maitef.fitness\n",
      "     fedesfit\n",
      "     fit_person\n",
      "     gentuli\n",
      "     jimenaalzogaray._\n",
      "     jmseitun\n",
      "     vico_frascolla\n",
      "------------------------------------------\n"
     ]
    }
   ],
   "source": [
    "for connected_component in connected_components:\n",
    "    print(\"\\033[1m\"+\"Componente conexa:\"+\"\\033[0m\")\n",
    "    print(\"   Nodos:\")\n",
    "    for node in connected_component:\n",
    "        print(\"     \" + node)\n",
    "    print(\"------------------------------------------\")"
   ]
  },
  {
   "cell_type": "code",
   "execution_count": 20,
   "id": "41540344",
   "metadata": {},
   "outputs": [
    {
     "data": {
      "image/svg+xml": [
       "<svg xmlns=\"http://www.w3.org/2000/svg\" width=\"578.0\" height=\"340\">\n",
       "<defs><marker id=\"arrow\" markerWidth=\"10\" markerHeight=\"10\" refX=\"9\" refY=\"3\" orient=\"auto\">\n",
       "<path d=\"M0,0 L0,6 L9,3 z\" fill=\"gray\"/></marker></defs>\n",
       "<path stroke-width=\"1\" stroke=\"gray\" d=\"M 171 222 213 275\" marker-end=\"url(#arrow)\"/>\n",
       "<path stroke-width=\"1\" stroke=\"gray\" d=\"M 204 171 174 217\" marker-end=\"url(#arrow)\"/>\n",
       "<path stroke-width=\"1\" stroke=\"gray\" d=\"M 204 171 307 127\" marker-end=\"url(#arrow)\"/>\n",
       "<path stroke-width=\"1\" stroke=\"gray\" d=\"M 204 171 149 120\" marker-end=\"url(#arrow)\"/>\n",
       "<path stroke-width=\"1\" stroke=\"gray\" d=\"M 204 171 239 161\" marker-end=\"url(#arrow)\"/>\n",
       "<path stroke-width=\"1\" stroke=\"gray\" d=\"M 204 171 253 207\" marker-end=\"url(#arrow)\"/>\n",
       "<path stroke-width=\"1\" stroke=\"gray\" d=\"M 245 160 218 274\" marker-end=\"url(#arrow)\"/>\n",
       "<path stroke-width=\"1\" stroke=\"gray\" d=\"M 144 116 253 207\" marker-end=\"url(#arrow)\"/>\n",
       "<path stroke-width=\"1\" stroke=\"gray\" d=\"M 245 160 210 170\" marker-end=\"url(#arrow)\"/>\n",
       "<path stroke-width=\"1\" stroke=\"gray\" d=\"M 258 211 401 243\" marker-end=\"url(#arrow)\"/>\n",
       "<path stroke-width=\"1\" stroke=\"gray\" d=\"M 258 211 220 274\" marker-end=\"url(#arrow)\"/>\n",
       "<path stroke-width=\"1\" stroke=\"gray\" d=\"M 258 211 209 175\" marker-end=\"url(#arrow)\"/>\n",
       "<path stroke-width=\"1\" stroke=\"gray\" d=\"M 218 88 173 216\" marker-end=\"url(#arrow)\"/>\n",
       "<path stroke-width=\"1\" stroke=\"gray\" d=\"M 218 88 307 123\" marker-end=\"url(#arrow)\"/>\n",
       "<path stroke-width=\"1\" stroke=\"gray\" d=\"M 218 88 150 114\" marker-end=\"url(#arrow)\"/>\n",
       "<path stroke-width=\"1\" stroke=\"gray\" d=\"M 258 211 177 222\" marker-end=\"url(#arrow)\"/>\n",
       "<path stroke-width=\"1\" stroke=\"gray\" d=\"M 144 116 239 158\" marker-end=\"url(#arrow)\"/>\n",
       "<path stroke-width=\"1\" stroke=\"gray\" d=\"M 144 116 199 167\" marker-end=\"url(#arrow)\"/>\n",
       "<path stroke-width=\"1\" stroke=\"gray\" d=\"M 144 116 170 216\" marker-end=\"url(#arrow)\"/>\n",
       "<path stroke-width=\"1\" stroke=\"gray\" d=\"M 171 222 201 176\" marker-end=\"url(#arrow)\"/>\n",
       "<path stroke-width=\"1\" stroke=\"gray\" d=\"M 171 222 252 211\" marker-end=\"url(#arrow)\"/>\n",
       "<path stroke-width=\"1\" stroke=\"gray\" d=\"M 420 128 407 238\" marker-end=\"url(#arrow)\"/>\n",
       "<path stroke-width=\"1\" stroke=\"gray\" d=\"M 420 128 319 125\" marker-end=\"url(#arrow)\"/>\n",
       "<path stroke-width=\"1\" stroke=\"gray\" d=\"M 136 320 169 228\" marker-end=\"url(#arrow)\"/>\n",
       "<path stroke-width=\"1\" stroke=\"gray\" d=\"M 136 320 211 283\" marker-end=\"url(#arrow)\"/>\n",
       "<path stroke-width=\"1\" stroke=\"gray\" d=\"M 136 320 202 177\" marker-end=\"url(#arrow)\"/>\n",
       "<path stroke-width=\"1\" stroke=\"gray\" d=\"M 313 125 414 128\" marker-end=\"url(#arrow)\"/>\n",
       "<path stroke-width=\"1\" stroke=\"gray\" d=\"M 313 125 210 169\" marker-end=\"url(#arrow)\"/>\n",
       "<path stroke-width=\"1\" stroke=\"gray\" d=\"M 313 125 251 157\" marker-end=\"url(#arrow)\"/>\n",
       "<path stroke-width=\"1\" stroke=\"gray\" d=\"M 313 125 261 206\" marker-end=\"url(#arrow)\"/>\n",
       "<path stroke-width=\"1\" stroke=\"gray\" d=\"M 20 20 139 112\" marker-end=\"url(#arrow)\"/>\n",
       "<path stroke-width=\"1\" stroke=\"gray\" d=\"M 217 280 175 227\" marker-end=\"url(#arrow)\"/>\n",
       "<path stroke-width=\"1\" stroke=\"gray\" d=\"M 217 280 244 166\" marker-end=\"url(#arrow)\"/>\n",
       "<path stroke-width=\"1\" stroke=\"gray\" d=\"M 217 280 255 217\" marker-end=\"url(#arrow)\"/>\n",
       "<path stroke-width=\"1\" stroke=\"gray\" d=\"M 218 88 205 165\" marker-end=\"url(#arrow)\"/>\n",
       "<path stroke-width=\"1\" stroke=\"gray\" d=\"M 218 88 256 205\" marker-end=\"url(#arrow)\"/>\n",
       "<circle cx=\"171\" cy=\"222\" r=\"7.0\" style=\"fill:red;stroke:black;stroke-width:1.0\"/>\n",
       "<circle cx=\"420\" cy=\"128\" r=\"7.0\" style=\"fill:red;stroke:black;stroke-width:1.0\"/>\n",
       "<circle cx=\"407\" cy=\"244\" r=\"7.0\" style=\"fill:blue;stroke:black;stroke-width:1.0\"/>\n",
       "<circle cx=\"136\" cy=\"320\" r=\"7.0\" style=\"fill:green;stroke:black;stroke-width:1.0\"/>\n",
       "<circle cx=\"313\" cy=\"125\" r=\"7.0\" style=\"fill:red;stroke:black;stroke-width:1.0\"/>\n",
       "<circle cx=\"20\" cy=\"20\" r=\"7.0\" style=\"fill:orange;stroke:black;stroke-width:1.0\"/>\n",
       "<circle cx=\"217\" cy=\"280\" r=\"7.0\" style=\"fill:red;stroke:black;stroke-width:1.0\"/>\n",
       "<circle cx=\"144\" cy=\"116\" r=\"7.0\" style=\"fill:red;stroke:black;stroke-width:1.0\"/>\n",
       "<circle cx=\"204\" cy=\"171\" r=\"7.0\" style=\"fill:red;stroke:black;stroke-width:1.0\"/>\n",
       "<circle cx=\"245\" cy=\"160\" r=\"7.0\" style=\"fill:red;stroke:black;stroke-width:1.0\"/>\n",
       "<circle cx=\"258\" cy=\"211\" r=\"7.0\" style=\"fill:red;stroke:black;stroke-width:1.0\"/>\n",
       "<circle cx=\"218\" cy=\"88\" r=\"7.0\" style=\"fill:purple;stroke:black;stroke-width:1.0\"/>\n",
       "<text x=\"188\" y=\"229\" font-size=\"12\">santicomba</text><text x=\"437\" y=\"135\" font-size=\"12\">maitef.fitness</text><text x=\"424\" y=\"251\" font-size=\"12\">ivi_quirog</text><text x=\"153\" y=\"327\" font-size=\"12\">entrenamiento_trouville</text><text x=\"330\" y=\"132\" font-size=\"12\">fedesfit</text><text x=\"37\" y=\"27\" font-size=\"12\">maguitolosa1</text><text x=\"234\" y=\"287\" font-size=\"12\">fit_person</text><text x=\"161\" y=\"123\" font-size=\"12\">gentuli</text><text x=\"221\" y=\"178\" font-size=\"12\">jimenaalzogaray._</text><text x=\"262\" y=\"167\" font-size=\"12\">jmseitun</text><text x=\"275\" y=\"218\" font-size=\"12\">vico_frascolla</text><text x=\"235\" y=\"95\" font-size=\"12\">cami.filmel</text></svg>"
      ],
      "text/plain": [
       "<IPython.core.display.SVG object>"
      ]
     },
     "execution_count": 20,
     "metadata": {},
     "output_type": "execute_result"
    }
   ],
   "source": [
    "SVG(image)"
   ]
  },
  {
   "cell_type": "markdown",
   "id": "b16458e4",
   "metadata": {},
   "source": [
    "## Cantidad de seguidores 👧👦"
   ]
  },
  {
   "cell_type": "code",
   "execution_count": 21,
   "id": "6d0c5cfa",
   "metadata": {},
   "outputs": [],
   "source": [
    "zipped_nodes = list(zip(nodes_names,node_weights))\n",
    "zipped_nodes.sort(key=lambda x: x[1], reverse=True)\n",
    "best_nodes = zipped_nodes[:3] \n",
    "for node in best_nodes:\n",
    "    position = best_nodes.index(node)\n",
    "    save_candidate(node[0],position)"
   ]
  },
  {
   "cell_type": "code",
   "execution_count": 22,
   "id": "cce57ef5",
   "metadata": {},
   "outputs": [
    {
     "data": {
      "image/svg+xml": [
       "<svg xmlns=\"http://www.w3.org/2000/svg\" width=\"578.0\" height=\"340\">\n",
       "<defs><marker id=\"arrow\" markerWidth=\"10\" markerHeight=\"10\" refX=\"9\" refY=\"3\" orient=\"auto\">\n",
       "<path d=\"M0,0 L0,6 L9,3 z\" fill=\"gray\"/></marker></defs>\n",
       "<path stroke-width=\"1\" stroke=\"gray\" d=\"M 271 188 326 210\" marker-end=\"url(#arrow)\"/>\n",
       "<path stroke-width=\"1\" stroke=\"gray\" d=\"M 217 175 261 186\" marker-end=\"url(#arrow)\"/>\n",
       "<path stroke-width=\"1\" stroke=\"gray\" d=\"M 217 175 171 245\" marker-end=\"url(#arrow)\"/>\n",
       "<path stroke-width=\"1\" stroke=\"gray\" d=\"M 217 175 183 124\" marker-end=\"url(#arrow)\"/>\n",
       "<path stroke-width=\"1\" stroke=\"gray\" d=\"M 217 175 297 160\" marker-end=\"url(#arrow)\"/>\n",
       "<path stroke-width=\"1\" stroke=\"gray\" d=\"M 217 175 184 209\" marker-end=\"url(#arrow)\"/>\n",
       "<path stroke-width=\"1\" stroke=\"gray\" d=\"M 299 160 331 204\" marker-end=\"url(#arrow)\"/>\n",
       "<path stroke-width=\"1\" stroke=\"gray\" d=\"M 182 122 183 209\" marker-end=\"url(#arrow)\"/>\n",
       "<path stroke-width=\"1\" stroke=\"gray\" d=\"M 299 160 222 175\" marker-end=\"url(#arrow)\"/>\n",
       "<path stroke-width=\"1\" stroke=\"gray\" d=\"M 183 211 23 288\" marker-end=\"url(#arrow)\"/>\n",
       "<path stroke-width=\"1\" stroke=\"gray\" d=\"M 183 211 325 214\" marker-end=\"url(#arrow)\"/>\n",
       "<path stroke-width=\"1\" stroke=\"gray\" d=\"M 183 211 214 178\" marker-end=\"url(#arrow)\"/>\n",
       "<path stroke-width=\"1\" stroke=\"gray\" d=\"M 108 176 261 188\" marker-end=\"url(#arrow)\"/>\n",
       "<path stroke-width=\"1\" stroke=\"gray\" d=\"M 108 176 170 245\" marker-end=\"url(#arrow)\"/>\n",
       "<path stroke-width=\"1\" stroke=\"gray\" d=\"M 108 176 180 123\" marker-end=\"url(#arrow)\"/>\n",
       "<path stroke-width=\"1\" stroke=\"gray\" d=\"M 183 211 261 190\" marker-end=\"url(#arrow)\"/>\n",
       "<path stroke-width=\"1\" stroke=\"gray\" d=\"M 182 122 297 160\" marker-end=\"url(#arrow)\"/>\n",
       "<path stroke-width=\"1\" stroke=\"gray\" d=\"M 182 122 215 171\" marker-end=\"url(#arrow)\"/>\n",
       "<path stroke-width=\"1\" stroke=\"gray\" d=\"M 182 122 263 182\" marker-end=\"url(#arrow)\"/>\n",
       "<path stroke-width=\"1\" stroke=\"gray\" d=\"M 271 188 222 176\" marker-end=\"url(#arrow)\"/>\n",
       "<path stroke-width=\"1\" stroke=\"gray\" d=\"M 271 188 185 211\" marker-end=\"url(#arrow)\"/>\n",
       "<path stroke-width=\"1\" stroke=\"gray\" d=\"M 115 320 23 290\" marker-end=\"url(#arrow)\"/>\n",
       "<path stroke-width=\"1\" stroke=\"gray\" d=\"M 115 320 170 247\" marker-end=\"url(#arrow)\"/>\n",
       "<path stroke-width=\"1\" stroke=\"gray\" d=\"M 420 174 281 187\" marker-end=\"url(#arrow)\"/>\n",
       "<path stroke-width=\"1\" stroke=\"gray\" d=\"M 420 174 349 209\" marker-end=\"url(#arrow)\"/>\n",
       "<path stroke-width=\"1\" stroke=\"gray\" d=\"M 420 174 222 175\" marker-end=\"url(#arrow)\"/>\n",
       "<path stroke-width=\"1\" stroke=\"gray\" d=\"M 171 246 116 319\" marker-end=\"url(#arrow)\"/>\n",
       "<path stroke-width=\"1\" stroke=\"gray\" d=\"M 171 246 215 179\" marker-end=\"url(#arrow)\"/>\n",
       "<path stroke-width=\"1\" stroke=\"gray\" d=\"M 171 246 297 161\" marker-end=\"url(#arrow)\"/>\n",
       "<path stroke-width=\"1\" stroke=\"gray\" d=\"M 171 246 183 213\" marker-end=\"url(#arrow)\"/>\n",
       "<path stroke-width=\"1\" stroke=\"gray\" d=\"M 131 20 181 120\" marker-end=\"url(#arrow)\"/>\n",
       "<path stroke-width=\"1\" stroke=\"gray\" d=\"M 338 214 281 191\" marker-end=\"url(#arrow)\"/>\n",
       "<path stroke-width=\"1\" stroke=\"gray\" d=\"M 338 214 300 162\" marker-end=\"url(#arrow)\"/>\n",
       "<path stroke-width=\"1\" stroke=\"gray\" d=\"M 338 214 185 211\" marker-end=\"url(#arrow)\"/>\n",
       "<path stroke-width=\"1\" stroke=\"gray\" d=\"M 108 176 212 175\" marker-end=\"url(#arrow)\"/>\n",
       "<path stroke-width=\"1\" stroke=\"gray\" d=\"M 108 176 181 210\" marker-end=\"url(#arrow)\"/>\n",
       "<circle cx=\"271\" cy=\"188\" r=\"10.765709923664122\" style=\"fill:gray;stroke:black;stroke-width:1.0\"/>\n",
       "<circle cx=\"115\" cy=\"320\" r=\"1.9656641221374045\" style=\"fill:gray;stroke:black;stroke-width:1.0\"/>\n",
       "<circle cx=\"20\" cy=\"289\" r=\"3.4386717557251907\" style=\"fill:gray;stroke:black;stroke-width:1.0\"/>\n",
       "<circle cx=\"420\" cy=\"174\" r=\"1.5830534351145038\" style=\"fill:gray;stroke:black;stroke-width:1.0\"/>\n",
       "<circle cx=\"171\" cy=\"246\" r=\"1.6776183206106872\" style=\"fill:gray;stroke:black;stroke-width:1.0\"/>\n",
       "<circle cx=\"131\" cy=\"20\" r=\"1.7083664122137403\" style=\"fill:gray;stroke:black;stroke-width:1.0\"/>\n",
       "<circle cx=\"338\" cy=\"214\" r=\"13.270229007633588\" style=\"fill:gray;stroke:black;stroke-width:1.0\"/>\n",
       "<circle cx=\"182\" cy=\"122\" r=\"2.8863664122137402\" style=\"fill:gray;stroke:black;stroke-width:1.0\"/>\n",
       "<circle cx=\"217\" cy=\"175\" r=\"5.235114503816794\" style=\"fill:gray;stroke:black;stroke-width:1.0\"/>\n",
       "<circle cx=\"299\" cy=\"160\" r=\"2.570763358778626\" style=\"fill:gray;stroke:black;stroke-width:1.0\"/>\n",
       "<circle cx=\"183\" cy=\"211\" r=\"2.79412213740458\" style=\"fill:gray;stroke:black;stroke-width:1.0\"/>\n",
       "<circle cx=\"108\" cy=\"176\" r=\"20.0\" style=\"fill:gray;stroke:black;stroke-width:1.0\"/>\n",
       "<text x=\"292\" y=\"199\" font-size=\"12\">santicomba</text><text x=\"127\" y=\"321\" font-size=\"12\">maitef.fitness</text><text x=\"33\" y=\"293\" font-size=\"12\">ivi_quirog</text><text x=\"431\" y=\"175\" font-size=\"12\">entrenamiento_trouville</text><text x=\"182\" y=\"248\" font-size=\"12\">fedesfit</text><text x=\"142\" y=\"21\" font-size=\"12\">maguitolosa1</text><text x=\"361\" y=\"227\" font-size=\"12\">fit_person</text><text x=\"195\" y=\"125\" font-size=\"12\">gentuli</text><text x=\"232\" y=\"180\" font-size=\"12\">jimenaalzogaray._</text><text x=\"312\" y=\"163\" font-size=\"12\">jmseitun</text><text x=\"196\" y=\"214\" font-size=\"12\">vico_frascolla</text><text x=\"138\" y=\"196\" font-size=\"12\">cami.filmel</text></svg>"
      ],
      "text/plain": [
       "<IPython.core.display.SVG object>"
      ]
     },
     "execution_count": 22,
     "metadata": {},
     "output_type": "execute_result"
    }
   ],
   "source": [
    "adjacency = skn_graph.adjacency\n",
    "image = svg_digraph(adjacency,names=nodes_names,display_node_weight=True,node_weights = np.array(node_weights))\n",
    "SVG(image)"
   ]
  },
  {
   "cell_type": "markdown",
   "id": "d52c5bd8",
   "metadata": {},
   "source": [
    "## Conclusión"
   ]
  },
  {
   "cell_type": "code",
   "execution_count": 23,
   "id": "23c8ab58",
   "metadata": {},
   "outputs": [
    {
     "name": "stdout",
     "output_type": "stream",
     "text": [
      "\u001b[1mInfluencer:\u001b[0m jimenaalzogaray._\n",
      "\u001b[1m     Points:\u001b[0m 6\n",
      "------------------------------------------\n",
      "\u001b[1mInfluencer:\u001b[0m santicomba\n",
      "\u001b[1m     Points:\u001b[0m 3\n",
      "------------------------------------------\n",
      "\u001b[1mInfluencer:\u001b[0m cami.filmel\n",
      "\u001b[1m     Points:\u001b[0m 3\n",
      "------------------------------------------\n",
      "\u001b[1mInfluencer:\u001b[0m fedesfit\n",
      "\u001b[1m     Points:\u001b[0m 2\n",
      "------------------------------------------\n",
      "\u001b[1mInfluencer:\u001b[0m vico_frascolla\n",
      "\u001b[1m     Points:\u001b[0m 2\n",
      "------------------------------------------\n",
      "\u001b[1mInfluencer:\u001b[0m fit_person\n",
      "\u001b[1m     Points:\u001b[0m 2\n",
      "------------------------------------------\n"
     ]
    }
   ],
   "source": [
    "best_nodes = []\n",
    "for name in candidates.keys():\n",
    "    node_ponderation = candidates[name]\n",
    "    best_nodes.append((name, node_ponderation))\n",
    "best_nodes.sort(key=lambda x: x[1], reverse=True)\n",
    "\n",
    "for node in best_nodes:\n",
    "    print(\"\\033[1m\"+\"Influencer:\"+\"\\033[0m\"+\" \"+node[0])\n",
    "    print(\"\\033[1m\"+\"     Points:\"+\"\\033[0m\"+\" \"+str(node[1]))\n",
    "    print(\"------------------------------------------\")"
   ]
  },
  {
   "cell_type": "markdown",
   "id": "5ffcca58",
   "metadata": {},
   "source": [
    "Si bien la elección intuitiva era seleccionar a la influencer _cami.filmel_ como la miembro destacada de la comunidad en cuestión, a partir de la cant. de seguidores que esta posee, no es ella la elección óptima según la ponderación generada, sino _jimenaalzogaray.\\__, si bien la primera es la segunda concluye en segundo lugar.\n",
    "\n",
    "La primera posición de la influencer antes mencionada se debe a ser la de mayor centralidad tanto como nodo intermediario, como de grado (entrante). Además, los tres primeros actores, pertenecen a la misma componente conexa (la más grande)."
   ]
  },
  {
   "cell_type": "markdown",
   "id": "5b3c4907",
   "metadata": {},
   "source": [
    "# Trabajo futuro 📓\n",
    "\n",
    "Para siguientes iteraciones de esta investigación, será de valor obtener información exhaustiva de los seguidores de los influencers, incluida la cantidad de sus propios seguidores. Esto permitirá dimensionar las comunidades que siguen a cada influencer, identificar si son isoladas para cada uno de ellos o los miembros de una pertencen a otra.\n",
    "\n",
    "Luego, se podrán contruir nuevos _charts_ donde los perfiles puedan ganar o perder tracción.\n"
   ]
  },
  {
   "cell_type": "markdown",
   "id": "9fc16b55",
   "metadata": {},
   "source": [
    "# Perfiles estudiados 📱\n",
    "\n",
    "* [@santicomba](https://www.instagram.com/santicomba/)\n",
    "* [@maitef.fitness](https://www.instagram.com/maitef.fitness/)\n",
    "* [@ivi_quirog](https://www.instagram.com/ivi_quirog/?hl=en)\n",
    "* [@entrenamiento_trouville](https://www.instagram.com/entrenamiento_trouville/)\n",
    "* [@fedesfit](https://www.instagram.com/fedesfit/)\n",
    "* [@maguitolosa1](https://www.instagram.com/maguitolosa1/?hl=en)\n",
    "* [@fit_person](https://www.instagram.com/fit_person/?hl=en)\n",
    "* [@gentuli](https://www.instagram.com/gentuli/?hl=en)\n",
    "* [@jimenaalzogaray.\\_](https://www.instagram.com/jimenaalzogaray._/?hl=en)\n",
    "* [@jmseitun](https://www.instagram.com/jmseitun/?hl=en)\n",
    "* [@vico_frascolla](https://www.instagram.com/vico_frascolla/?hl=en)\n",
    "* [@cami.filmel](https://www.instagram.com/cami.filmel/?hl=en)\n",
    "* [@entrenamientopersonalep](https://www.instagram.com/entrenamientopersonalep/)"
   ]
  },
  {
   "cell_type": "code",
   "execution_count": null,
   "id": "939c61fc",
   "metadata": {},
   "outputs": [],
   "source": []
  }
 ],
 "metadata": {
  "kernelspec": {
   "display_name": "Python 3",
   "language": "python",
   "name": "python3"
  },
  "language_info": {
   "codemirror_mode": {
    "name": "ipython",
    "version": 3
   },
   "file_extension": ".py",
   "mimetype": "text/x-python",
   "name": "python",
   "nbconvert_exporter": "python",
   "pygments_lexer": "ipython3",
   "version": "3.8.5"
  }
 },
 "nbformat": 4,
 "nbformat_minor": 5
}
