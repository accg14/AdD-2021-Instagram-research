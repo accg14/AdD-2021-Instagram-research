{
 "cells": [
  {
   "cell_type": "code",
   "execution_count": 1,
   "id": "d9f8359d",
   "metadata": {},
   "outputs": [],
   "source": [
    "import pdb\n",
    "import csv\n",
    "import statistics\n",
    "import networkx as nx\n",
    "import numpy as np\n",
    "from IPython.display import SVG\n",
    "\n",
    "from influencers import INFLUENCERS_COMMUNITY\n",
    "\n",
    "import sknetwork\n",
    "from sknetwork.visualization import svg_digraph\n",
    "from sknetwork.utils import edgelist2adjacency\n",
    "from sknetwork.data import convert_edge_list\n",
    "from sknetwork.ranking import Katz\n",
    "\n",
    "import matplotlib.pyplot as plt"
   ]
  },
  {
   "cell_type": "markdown",
   "id": "74aa78a3",
   "metadata": {},
   "source": [
    "# Construcción del grafo"
   ]
  },
  {
   "cell_type": "code",
   "execution_count": 7,
   "id": "f8e2b7ef",
   "metadata": {},
   "outputs": [],
   "source": [
    "edges = []\n",
    "nodes = []\n",
    "nodes_names = []\n",
    "node_weights = []"
   ]
  },
  {
   "cell_type": "code",
   "execution_count": 8,
   "id": "e12862f3",
   "metadata": {},
   "outputs": [],
   "source": [
    "for influencer in INFLUENCERS_COMMUNITY.keys():\n",
    "    node_id = INFLUENCERS_COMMUNITY[influencer]['id']\n",
    "    node_name = influencer\n",
    "    node_weight = INFLUENCERS_COMMUNITY[influencer]['total_followers']\n",
    "    node_edges = INFLUENCERS_COMMUNITY[influencer]['influencers_followers']\n",
    "    \n",
    "    nodes_names.append(node_name)\n",
    "    node_weights.append(node_weight)\n",
    "\n",
    "    for neighbor_node in node_edges:\n",
    "        neighbor_id = INFLUENCERS_COMMUNITY[neighbor_node]['id']\n",
    "        edges.append((neighbor_id, node_id))"
   ]
  },
  {
   "cell_type": "code",
   "execution_count": 13,
   "id": "46ab917c",
   "metadata": {},
   "outputs": [],
   "source": [
    "graph = convert_edge_list(edges, directed=True)"
   ]
  },
  {
   "cell_type": "markdown",
   "id": "6894fb03",
   "metadata": {},
   "source": [
    "# Digrafo"
   ]
  },
  {
   "cell_type": "code",
   "execution_count": 14,
   "id": "cce57ef5",
   "metadata": {},
   "outputs": [
    {
     "data": {
      "image/svg+xml": [
       "<svg xmlns=\"http://www.w3.org/2000/svg\" width=\"578.0\" height=\"340\">\n",
       "<defs><marker id=\"arrow\" markerWidth=\"10\" markerHeight=\"10\" refX=\"9\" refY=\"3\" orient=\"auto\">\n",
       "<path d=\"M0,0 L0,6 L9,3 z\" fill=\"gray\"/></marker></defs>\n",
       "<path stroke-width=\"1\" stroke=\"gray\" d=\"M 372 244 330 275\" marker-end=\"url(#arrow)\"/>\n",
       "<path stroke-width=\"1\" stroke=\"gray\" d=\"M 324 214 363 239\" marker-end=\"url(#arrow)\"/>\n",
       "<path stroke-width=\"1\" stroke=\"gray\" d=\"M 324 214 333 120\" marker-end=\"url(#arrow)\"/>\n",
       "<path stroke-width=\"1\" stroke=\"gray\" d=\"M 324 214 220 202\" marker-end=\"url(#arrow)\"/>\n",
       "<path stroke-width=\"1\" stroke=\"gray\" d=\"M 324 214 253 244\" marker-end=\"url(#arrow)\"/>\n",
       "<path stroke-width=\"1\" stroke=\"gray\" d=\"M 324 214 308 176\" marker-end=\"url(#arrow)\"/>\n",
       "<path stroke-width=\"1\" stroke=\"gray\" d=\"M 251 245 309 277\" marker-end=\"url(#arrow)\"/>\n",
       "<path stroke-width=\"1\" stroke=\"gray\" d=\"M 218 202 305 174\" marker-end=\"url(#arrow)\"/>\n",
       "<path stroke-width=\"1\" stroke=\"gray\" d=\"M 251 245 320 216\" marker-end=\"url(#arrow)\"/>\n",
       "<path stroke-width=\"1\" stroke=\"gray\" d=\"M 307 174 256 38\" marker-end=\"url(#arrow)\"/>\n",
       "<path stroke-width=\"1\" stroke=\"gray\" d=\"M 307 174 319 270\" marker-end=\"url(#arrow)\"/>\n",
       "<path stroke-width=\"1\" stroke=\"gray\" d=\"M 307 174 322 210\" marker-end=\"url(#arrow)\"/>\n",
       "<path stroke-width=\"1\" stroke=\"gray\" d=\"M 394 170 375 234\" marker-end=\"url(#arrow)\"/>\n",
       "<path stroke-width=\"1\" stroke=\"gray\" d=\"M 394 170 334 120\" marker-end=\"url(#arrow)\"/>\n",
       "<path stroke-width=\"1\" stroke=\"gray\" d=\"M 394 170 220 202\" marker-end=\"url(#arrow)\"/>\n",
       "<path stroke-width=\"1\" stroke=\"gray\" d=\"M 307 174 365 237\" marker-end=\"url(#arrow)\"/>\n",
       "<path stroke-width=\"1\" stroke=\"gray\" d=\"M 218 202 250 243\" marker-end=\"url(#arrow)\"/>\n",
       "<path stroke-width=\"1\" stroke=\"gray\" d=\"M 218 202 319 214\" marker-end=\"url(#arrow)\"/>\n",
       "<path stroke-width=\"1\" stroke=\"gray\" d=\"M 218 202 362 242\" marker-end=\"url(#arrow)\"/>\n",
       "<path stroke-width=\"1\" stroke=\"gray\" d=\"M 372 244 328 216\" marker-end=\"url(#arrow)\"/>\n",
       "<path stroke-width=\"1\" stroke=\"gray\" d=\"M 372 244 308 176\" marker-end=\"url(#arrow)\"/>\n",
       "<path stroke-width=\"1\" stroke=\"gray\" d=\"M 358 20 258 35\" marker-end=\"url(#arrow)\"/>\n",
       "<path stroke-width=\"1\" stroke=\"gray\" d=\"M 358 20 333 118\" marker-end=\"url(#arrow)\"/>\n",
       "<path stroke-width=\"1\" stroke=\"gray\" d=\"M 420 320 377 253\" marker-end=\"url(#arrow)\"/>\n",
       "<path stroke-width=\"1\" stroke=\"gray\" d=\"M 420 320 332 287\" marker-end=\"url(#arrow)\"/>\n",
       "<path stroke-width=\"1\" stroke=\"gray\" d=\"M 420 320 327 217\" marker-end=\"url(#arrow)\"/>\n",
       "<path stroke-width=\"1\" stroke=\"gray\" d=\"M 333 119 358 21\" marker-end=\"url(#arrow)\"/>\n",
       "<path stroke-width=\"1\" stroke=\"gray\" d=\"M 333 119 324 209\" marker-end=\"url(#arrow)\"/>\n",
       "<path stroke-width=\"1\" stroke=\"gray\" d=\"M 333 119 252 243\" marker-end=\"url(#arrow)\"/>\n",
       "<path stroke-width=\"1\" stroke=\"gray\" d=\"M 333 119 308 172\" marker-end=\"url(#arrow)\"/>\n",
       "<path stroke-width=\"1\" stroke=\"gray\" d=\"M 20 214 216 202\" marker-end=\"url(#arrow)\"/>\n",
       "<path stroke-width=\"1\" stroke=\"gray\" d=\"M 320 283 364 250\" marker-end=\"url(#arrow)\"/>\n",
       "<path stroke-width=\"1\" stroke=\"gray\" d=\"M 320 283 253 246\" marker-end=\"url(#arrow)\"/>\n",
       "<path stroke-width=\"1\" stroke=\"gray\" d=\"M 320 283 307 176\" marker-end=\"url(#arrow)\"/>\n",
       "<path stroke-width=\"1\" stroke=\"gray\" d=\"M 394 170 328 212\" marker-end=\"url(#arrow)\"/>\n",
       "<path stroke-width=\"1\" stroke=\"gray\" d=\"M 394 170 309 174\" marker-end=\"url(#arrow)\"/>\n",
       "<circle cx=\"372\" cy=\"244\" r=\"10.765709923664122\" style=\"fill:gray;stroke:black;stroke-width:1.0\"/>\n",
       "<circle cx=\"358\" cy=\"20\" r=\"1.9656641221374045\" style=\"fill:gray;stroke:black;stroke-width:1.0\"/>\n",
       "<circle cx=\"255\" cy=\"35\" r=\"3.4386717557251907\" style=\"fill:gray;stroke:black;stroke-width:1.0\"/>\n",
       "<circle cx=\"420\" cy=\"320\" r=\"1.5830534351145038\" style=\"fill:gray;stroke:black;stroke-width:1.0\"/>\n",
       "<circle cx=\"333\" cy=\"119\" r=\"1.6776183206106872\" style=\"fill:gray;stroke:black;stroke-width:1.0\"/>\n",
       "<circle cx=\"20\" cy=\"214\" r=\"1.7083664122137403\" style=\"fill:gray;stroke:black;stroke-width:1.0\"/>\n",
       "<circle cx=\"320\" cy=\"283\" r=\"13.270229007633588\" style=\"fill:gray;stroke:black;stroke-width:1.0\"/>\n",
       "<circle cx=\"218\" cy=\"202\" r=\"2.8863664122137402\" style=\"fill:gray;stroke:black;stroke-width:1.0\"/>\n",
       "<circle cx=\"324\" cy=\"214\" r=\"5.235114503816794\" style=\"fill:gray;stroke:black;stroke-width:1.0\"/>\n",
       "<circle cx=\"251\" cy=\"245\" r=\"2.570763358778626\" style=\"fill:gray;stroke:black;stroke-width:1.0\"/>\n",
       "<circle cx=\"307\" cy=\"174\" r=\"2.79412213740458\" style=\"fill:gray;stroke:black;stroke-width:1.0\"/>\n",
       "<circle cx=\"394\" cy=\"170\" r=\"20.0\" style=\"fill:gray;stroke:black;stroke-width:1.0\"/>\n",
       "<text x=\"393\" y=\"254\" font-size=\"12\">santicomba</text><text x=\"370\" y=\"21\" font-size=\"12\">maitef.fitness</text><text x=\"269\" y=\"39\" font-size=\"12\">ivi_quirog</text><text x=\"431\" y=\"321\" font-size=\"12\">entrenamiento_trouville</text><text x=\"345\" y=\"121\" font-size=\"12\">fedesfit</text><text x=\"31\" y=\"215\" font-size=\"12\">maguitolosa1</text><text x=\"343\" y=\"297\" font-size=\"12\">fit_person</text><text x=\"230\" y=\"205\" font-size=\"12\">gentuli</text><text x=\"339\" y=\"219\" font-size=\"12\">jimenaalzogaray._</text><text x=\"263\" y=\"248\" font-size=\"12\">jmseitun</text><text x=\"320\" y=\"177\" font-size=\"12\">vico_frascolla</text><text x=\"424\" y=\"190\" font-size=\"12\">cami.filmel</text></svg>"
      ],
      "text/plain": [
       "<IPython.core.display.SVG object>"
      ]
     },
     "execution_count": 14,
     "metadata": {},
     "output_type": "execute_result"
    }
   ],
   "source": [
    "image = svg_digraph(graph.adjacency,names=nodes_names,display_node_weight=True,node_weights = np.array(node_weights))\n",
    "SVG(image)"
   ]
  },
  {
   "cell_type": "code",
   "execution_count": 15,
   "id": "76ebcb96",
   "metadata": {},
   "outputs": [],
   "source": [
    "graph.adjacency\n",
    "labels = sknetwork.topology.connected_components(graph.adjacency, connection='strong')"
   ]
  },
  {
   "cell_type": "code",
   "execution_count": 17,
   "id": "a7220739",
   "metadata": {},
   "outputs": [
    {
     "data": {
      "image/svg+xml": [
       "<svg xmlns=\"http://www.w3.org/2000/svg\" width=\"578.0\" height=\"340\">\n",
       "<defs><marker id=\"arrow\" markerWidth=\"10\" markerHeight=\"10\" refX=\"9\" refY=\"3\" orient=\"auto\">\n",
       "<path d=\"M0,0 L0,6 L9,3 z\" fill=\"gray\"/></marker></defs>\n",
       "<path stroke-width=\"1\" stroke=\"gray\" d=\"M 225 131 224 85\" marker-end=\"url(#arrow)\"/>\n",
       "<path stroke-width=\"1\" stroke=\"gray\" d=\"M 225 179 225 137\" marker-end=\"url(#arrow)\"/>\n",
       "<path stroke-width=\"1\" stroke=\"gray\" d=\"M 225 179 157 243\" marker-end=\"url(#arrow)\"/>\n",
       "<path stroke-width=\"1\" stroke=\"gray\" d=\"M 225 179 292 224\" marker-end=\"url(#arrow)\"/>\n",
       "<path stroke-width=\"1\" stroke=\"gray\" d=\"M 225 179 272 157\" marker-end=\"url(#arrow)\"/>\n",
       "<path stroke-width=\"1\" stroke=\"gray\" d=\"M 225 179 174 168\" marker-end=\"url(#arrow)\"/>\n",
       "<path stroke-width=\"1\" stroke=\"gray\" d=\"M 278 154 228 84\" marker-end=\"url(#arrow)\"/>\n",
       "<path stroke-width=\"1\" stroke=\"gray\" d=\"M 297 227 174 169\" marker-end=\"url(#arrow)\"/>\n",
       "<path stroke-width=\"1\" stroke=\"gray\" d=\"M 278 154 231 176\" marker-end=\"url(#arrow)\"/>\n",
       "<path stroke-width=\"1\" stroke=\"gray\" d=\"M 168 167 26 211\" marker-end=\"url(#arrow)\"/>\n",
       "<path stroke-width=\"1\" stroke=\"gray\" d=\"M 168 167 221 84\" marker-end=\"url(#arrow)\"/>\n",
       "<path stroke-width=\"1\" stroke=\"gray\" d=\"M 168 167 219 178\" marker-end=\"url(#arrow)\"/>\n",
       "<path stroke-width=\"1\" stroke=\"gray\" d=\"M 223 252 225 137\" marker-end=\"url(#arrow)\"/>\n",
       "<path stroke-width=\"1\" stroke=\"gray\" d=\"M 223 252 158 247\" marker-end=\"url(#arrow)\"/>\n",
       "<path stroke-width=\"1\" stroke=\"gray\" d=\"M 223 252 291 229\" marker-end=\"url(#arrow)\"/>\n",
       "<path stroke-width=\"1\" stroke=\"gray\" d=\"M 168 167 220 134\" marker-end=\"url(#arrow)\"/>\n",
       "<path stroke-width=\"1\" stroke=\"gray\" d=\"M 297 227 279 160\" marker-end=\"url(#arrow)\"/>\n",
       "<path stroke-width=\"1\" stroke=\"gray\" d=\"M 297 227 230 182\" marker-end=\"url(#arrow)\"/>\n",
       "<path stroke-width=\"1\" stroke=\"gray\" d=\"M 297 227 229 136\" marker-end=\"url(#arrow)\"/>\n",
       "<path stroke-width=\"1\" stroke=\"gray\" d=\"M 225 131 225 173\" marker-end=\"url(#arrow)\"/>\n",
       "<path stroke-width=\"1\" stroke=\"gray\" d=\"M 225 131 173 164\" marker-end=\"url(#arrow)\"/>\n",
       "<path stroke-width=\"1\" stroke=\"gray\" d=\"M 56 303 22 219\" marker-end=\"url(#arrow)\"/>\n",
       "<path stroke-width=\"1\" stroke=\"gray\" d=\"M 56 303 146 250\" marker-end=\"url(#arrow)\"/>\n",
       "<path stroke-width=\"1\" stroke=\"gray\" d=\"M 230 20 225 125\" marker-end=\"url(#arrow)\"/>\n",
       "<path stroke-width=\"1\" stroke=\"gray\" d=\"M 230 20 224 73\" marker-end=\"url(#arrow)\"/>\n",
       "<path stroke-width=\"1\" stroke=\"gray\" d=\"M 230 20 225 173\" marker-end=\"url(#arrow)\"/>\n",
       "<path stroke-width=\"1\" stroke=\"gray\" d=\"M 152 247 62 300\" marker-end=\"url(#arrow)\"/>\n",
       "<path stroke-width=\"1\" stroke=\"gray\" d=\"M 152 247 220 183\" marker-end=\"url(#arrow)\"/>\n",
       "<path stroke-width=\"1\" stroke=\"gray\" d=\"M 152 247 273 158\" marker-end=\"url(#arrow)\"/>\n",
       "<path stroke-width=\"1\" stroke=\"gray\" d=\"M 152 247 167 173\" marker-end=\"url(#arrow)\"/>\n",
       "<path stroke-width=\"1\" stroke=\"gray\" d=\"M 420 320 302 231\" marker-end=\"url(#arrow)\"/>\n",
       "<path stroke-width=\"1\" stroke=\"gray\" d=\"M 224 79 225 125\" marker-end=\"url(#arrow)\"/>\n",
       "<path stroke-width=\"1\" stroke=\"gray\" d=\"M 224 79 274 149\" marker-end=\"url(#arrow)\"/>\n",
       "<path stroke-width=\"1\" stroke=\"gray\" d=\"M 224 79 171 162\" marker-end=\"url(#arrow)\"/>\n",
       "<path stroke-width=\"1\" stroke=\"gray\" d=\"M 223 252 225 185\" marker-end=\"url(#arrow)\"/>\n",
       "<path stroke-width=\"1\" stroke=\"gray\" d=\"M 223 252 171 172\" marker-end=\"url(#arrow)\"/>\n",
       "<circle cx=\"225\" cy=\"131\" r=\"7.0\" style=\"fill:red;stroke:black;stroke-width:1.0\"/>\n",
       "<circle cx=\"56\" cy=\"303\" r=\"7.0\" style=\"fill:red;stroke:black;stroke-width:1.0\"/>\n",
       "<circle cx=\"20\" cy=\"213\" r=\"7.0\" style=\"fill:blue;stroke:black;stroke-width:1.0\"/>\n",
       "<circle cx=\"230\" cy=\"20\" r=\"7.0\" style=\"fill:green;stroke:black;stroke-width:1.0\"/>\n",
       "<circle cx=\"152\" cy=\"247\" r=\"7.0\" style=\"fill:red;stroke:black;stroke-width:1.0\"/>\n",
       "<circle cx=\"420\" cy=\"320\" r=\"7.0\" style=\"fill:orange;stroke:black;stroke-width:1.0\"/>\n",
       "<circle cx=\"224\" cy=\"79\" r=\"7.0\" style=\"fill:red;stroke:black;stroke-width:1.0\"/>\n",
       "<circle cx=\"297\" cy=\"227\" r=\"7.0\" style=\"fill:red;stroke:black;stroke-width:1.0\"/>\n",
       "<circle cx=\"225\" cy=\"179\" r=\"7.0\" style=\"fill:red;stroke:black;stroke-width:1.0\"/>\n",
       "<circle cx=\"278\" cy=\"154\" r=\"7.0\" style=\"fill:red;stroke:black;stroke-width:1.0\"/>\n",
       "<circle cx=\"168\" cy=\"167\" r=\"7.0\" style=\"fill:red;stroke:black;stroke-width:1.0\"/>\n",
       "<circle cx=\"223\" cy=\"252\" r=\"7.0\" style=\"fill:purple;stroke:black;stroke-width:1.0\"/>\n",
       "<text x=\"242\" y=\"138\" font-size=\"12\">santicomba</text><text x=\"73\" y=\"310\" font-size=\"12\">maitef.fitness</text><text x=\"37\" y=\"220\" font-size=\"12\">ivi_quirog</text><text x=\"247\" y=\"27\" font-size=\"12\">entrenamiento_trouville</text><text x=\"169\" y=\"254\" font-size=\"12\">fedesfit</text><text x=\"437\" y=\"327\" font-size=\"12\">maguitolosa1</text><text x=\"241\" y=\"86\" font-size=\"12\">fit_person</text><text x=\"314\" y=\"234\" font-size=\"12\">gentuli</text><text x=\"242\" y=\"186\" font-size=\"12\">jimenaalzogaray._</text><text x=\"295\" y=\"161\" font-size=\"12\">jmseitun</text><text x=\"185\" y=\"174\" font-size=\"12\">vico_frascolla</text><text x=\"240\" y=\"259\" font-size=\"12\">cami.filmel</text></svg>"
      ],
      "text/plain": [
       "<IPython.core.display.SVG object>"
      ]
     },
     "execution_count": 17,
     "metadata": {},
     "output_type": "execute_result"
    }
   ],
   "source": [
    "adj = graph.adjacency\n",
    "names = nodes_names\n",
    "image = svg_digraph(graph.adjacency,names=nodes_names, labels=labels)\n",
    "SVG(image)"
   ]
  },
  {
   "cell_type": "code",
   "execution_count": 18,
   "id": "a8e5aca8",
   "metadata": {},
   "outputs": [],
   "source": [
    "katz = Katz()\n",
    "scores = katz.fit_transform(adj)"
   ]
  },
  {
   "cell_type": "code",
   "execution_count": 19,
   "id": "c40219d0",
   "metadata": {},
   "outputs": [
    {
     "data": {
      "image/svg+xml": [
       "<svg xmlns=\"http://www.w3.org/2000/svg\" width=\"578.0\" height=\"340\">\n",
       "<defs><marker id=\"arrow\" markerWidth=\"10\" markerHeight=\"10\" refX=\"9\" refY=\"3\" orient=\"auto\">\n",
       "<path d=\"M0,0 L0,6 L9,3 z\" fill=\"gray\"/></marker></defs>\n",
       "<path stroke-width=\"1\" stroke=\"gray\" d=\"M 173 250 141 224\" marker-end=\"url(#arrow)\"/>\n",
       "<path stroke-width=\"1\" stroke=\"gray\" d=\"M 204 195 176 244\" marker-end=\"url(#arrow)\"/>\n",
       "<path stroke-width=\"1\" stroke=\"gray\" d=\"M 204 195 308 185\" marker-end=\"url(#arrow)\"/>\n",
       "<path stroke-width=\"1\" stroke=\"gray\" d=\"M 204 195 143 135\" marker-end=\"url(#arrow)\"/>\n",
       "<path stroke-width=\"1\" stroke=\"gray\" d=\"M 204 195 194 133\" marker-end=\"url(#arrow)\"/>\n",
       "<path stroke-width=\"1\" stroke=\"gray\" d=\"M 204 195 234 237\" marker-end=\"url(#arrow)\"/>\n",
       "<path stroke-width=\"1\" stroke=\"gray\" d=\"M 193 127 139 215\" marker-end=\"url(#arrow)\"/>\n",
       "<path stroke-width=\"1\" stroke=\"gray\" d=\"M 138 131 233 237\" marker-end=\"url(#arrow)\"/>\n",
       "<path stroke-width=\"1\" stroke=\"gray\" d=\"M 193 127 203 189\" marker-end=\"url(#arrow)\"/>\n",
       "<path stroke-width=\"1\" stroke=\"gray\" d=\"M 237 242 371 317\" marker-end=\"url(#arrow)\"/>\n",
       "<path stroke-width=\"1\" stroke=\"gray\" d=\"M 237 242 142 221\" marker-end=\"url(#arrow)\"/>\n",
       "<path stroke-width=\"1\" stroke=\"gray\" d=\"M 237 242 207 200\" marker-end=\"url(#arrow)\"/>\n",
       "<path stroke-width=\"1\" stroke=\"gray\" d=\"M 250 146 177 245\" marker-end=\"url(#arrow)\"/>\n",
       "<path stroke-width=\"1\" stroke=\"gray\" d=\"M 250 146 308 182\" marker-end=\"url(#arrow)\"/>\n",
       "<path stroke-width=\"1\" stroke=\"gray\" d=\"M 250 146 144 131\" marker-end=\"url(#arrow)\"/>\n",
       "<path stroke-width=\"1\" stroke=\"gray\" d=\"M 237 242 179 250\" marker-end=\"url(#arrow)\"/>\n",
       "<path stroke-width=\"1\" stroke=\"gray\" d=\"M 138 131 187 127\" marker-end=\"url(#arrow)\"/>\n",
       "<path stroke-width=\"1\" stroke=\"gray\" d=\"M 138 131 199 191\" marker-end=\"url(#arrow)\"/>\n",
       "<path stroke-width=\"1\" stroke=\"gray\" d=\"M 138 131 171 244\" marker-end=\"url(#arrow)\"/>\n",
       "<path stroke-width=\"1\" stroke=\"gray\" d=\"M 173 250 201 201\" marker-end=\"url(#arrow)\"/>\n",
       "<path stroke-width=\"1\" stroke=\"gray\" d=\"M 173 250 231 242\" marker-end=\"url(#arrow)\"/>\n",
       "<path stroke-width=\"1\" stroke=\"gray\" d=\"M 420 223 379 314\" marker-end=\"url(#arrow)\"/>\n",
       "<path stroke-width=\"1\" stroke=\"gray\" d=\"M 420 223 320 187\" marker-end=\"url(#arrow)\"/>\n",
       "<path stroke-width=\"1\" stroke=\"gray\" d=\"M 103 306 168 254\" marker-end=\"url(#arrow)\"/>\n",
       "<path stroke-width=\"1\" stroke=\"gray\" d=\"M 103 306 134 226\" marker-end=\"url(#arrow)\"/>\n",
       "<path stroke-width=\"1\" stroke=\"gray\" d=\"M 103 306 200 200\" marker-end=\"url(#arrow)\"/>\n",
       "<path stroke-width=\"1\" stroke=\"gray\" d=\"M 314 185 414 221\" marker-end=\"url(#arrow)\"/>\n",
       "<path stroke-width=\"1\" stroke=\"gray\" d=\"M 314 185 210 195\" marker-end=\"url(#arrow)\"/>\n",
       "<path stroke-width=\"1\" stroke=\"gray\" d=\"M 314 185 199 130\" marker-end=\"url(#arrow)\"/>\n",
       "<path stroke-width=\"1\" stroke=\"gray\" d=\"M 314 185 242 238\" marker-end=\"url(#arrow)\"/>\n",
       "<path stroke-width=\"1\" stroke=\"gray\" d=\"M 20 20 133 127\" marker-end=\"url(#arrow)\"/>\n",
       "<path stroke-width=\"1\" stroke=\"gray\" d=\"M 136 220 168 246\" marker-end=\"url(#arrow)\"/>\n",
       "<path stroke-width=\"1\" stroke=\"gray\" d=\"M 136 220 190 132\" marker-end=\"url(#arrow)\"/>\n",
       "<path stroke-width=\"1\" stroke=\"gray\" d=\"M 136 220 231 241\" marker-end=\"url(#arrow)\"/>\n",
       "<path stroke-width=\"1\" stroke=\"gray\" d=\"M 250 146 208 190\" marker-end=\"url(#arrow)\"/>\n",
       "<path stroke-width=\"1\" stroke=\"gray\" d=\"M 250 146 237 236\" marker-end=\"url(#arrow)\"/>\n",
       "<circle cx=\"173\" cy=\"250\" r=\"7.0\" style=\"fill:rgb(207, 70, 61);stroke:black;stroke-width:1.0\"/>\n",
       "<circle cx=\"420\" cy=\"223\" r=\"7.0\" style=\"fill:rgb(92, 123, 229);stroke:black;stroke-width:1.0\"/>\n",
       "<circle cx=\"377\" cy=\"320\" r=\"7.0\" style=\"fill:rgb(166, 195, 253);stroke:black;stroke-width:1.0\"/>\n",
       "<circle cx=\"103\" cy=\"306\" r=\"7.0\" style=\"fill:rgb(58, 76, 192);stroke:black;stroke-width:1.0\"/>\n",
       "<circle cx=\"314\" cy=\"185\" r=\"7.0\" style=\"fill:rgb(172, 200, 252);stroke:black;stroke-width:1.0\"/>\n",
       "<circle cx=\"20\" cy=\"20\" r=\"7.0\" style=\"fill:rgb(58, 76, 192);stroke:black;stroke-width:1.0\"/>\n",
       "<circle cx=\"136\" cy=\"220\" r=\"7.0\" style=\"fill:rgb(243, 150, 120);stroke:black;stroke-width:1.0\"/>\n",
       "<circle cx=\"138\" cy=\"131\" r=\"7.0\" style=\"fill:rgb(163, 193, 254);stroke:black;stroke-width:1.0\"/>\n",
       "<circle cx=\"204\" cy=\"195\" r=\"7.0\" style=\"fill:rgb(182, 13, 40);stroke:black;stroke-width:1.0\"/>\n",
       "<circle cx=\"193\" cy=\"127\" r=\"7.0\" style=\"fill:rgb(246, 166, 135);stroke:black;stroke-width:1.0\"/>\n",
       "<circle cx=\"237\" cy=\"242\" r=\"7.0\" style=\"fill:rgb(179, 3, 38);stroke:black;stroke-width:1.0\"/>\n",
       "<circle cx=\"250\" cy=\"146\" r=\"7.0\" style=\"fill:rgb(58, 76, 192);stroke:black;stroke-width:1.0\"/>\n",
       "<text x=\"190\" y=\"257\" font-size=\"12\">santicomba</text><text x=\"437\" y=\"230\" font-size=\"12\">maitef.fitness</text><text x=\"394\" y=\"327\" font-size=\"12\">ivi_quirog</text><text x=\"120\" y=\"313\" font-size=\"12\">entrenamiento_trouville</text><text x=\"331\" y=\"192\" font-size=\"12\">fedesfit</text><text x=\"37\" y=\"27\" font-size=\"12\">maguitolosa1</text><text x=\"153\" y=\"227\" font-size=\"12\">fit_person</text><text x=\"155\" y=\"138\" font-size=\"12\">gentuli</text><text x=\"221\" y=\"202\" font-size=\"12\">jimenaalzogaray._</text><text x=\"210\" y=\"134\" font-size=\"12\">jmseitun</text><text x=\"254\" y=\"249\" font-size=\"12\">vico_frascolla</text><text x=\"267\" y=\"153\" font-size=\"12\">cami.filmel</text></svg>"
      ],
      "text/plain": [
       "<IPython.core.display.SVG object>"
      ]
     },
     "execution_count": 19,
     "metadata": {},
     "output_type": "execute_result"
    }
   ],
   "source": [
    "image = svg_digraph(adj, scores=scores, names=nodes_names)\n",
    "SVG(image)"
   ]
  },
  {
   "cell_type": "code",
   "execution_count": 20,
   "id": "79f300f1",
   "metadata": {},
   "outputs": [],
   "source": [
    "networkx_graph = nx.convert_matrix.from_scipy_sparse_matrix(graph.adjacency)"
   ]
  },
  {
   "cell_type": "code",
   "execution_count": 22,
   "id": "e68ceb68",
   "metadata": {},
   "outputs": [],
   "source": [
    "b = nx.betweenness_centrality(networkx_graph)"
   ]
  },
  {
   "cell_type": "code",
   "execution_count": 23,
   "id": "d85ead84",
   "metadata": {},
   "outputs": [
    {
     "name": "stdout",
     "output_type": "stream",
     "text": [
      " 0 0.065\n",
      " 1 0.013\n",
      " 2 0.027\n",
      " 3 0.005\n",
      " 4 0.155\n",
      " 5 0.000\n",
      " 6 0.035\n",
      " 7 0.202\n",
      " 8 0.132\n",
      " 9 0.048\n",
      "10 0.237\n",
      "11 0.027\n"
     ]
    }
   ],
   "source": [
    "for v in networkx_graph.nodes():\n",
    "    print(f\"{v:2} {b[v]:.3f}\")"
   ]
  },
  {
   "cell_type": "code",
   "execution_count": 24,
   "id": "8fbd69ad",
   "metadata": {},
   "outputs": [
    {
     "data": {
      "image/png": "[encoded data removed]",
      "text/plain": [
       "<Figure size 432x288 with 1 Axes>"
      ]
     },
     "metadata": {},
     "output_type": "display_data"
    }
   ],
   "source": [
    "nx.draw(networkx_graph)\n",
    "plt.show()"
   ]
  }
 ],
 "metadata": {
  "kernelspec": {
   "display_name": "Python 3",
   "language": "python",
   "name": "python3"
  },
  "language_info": {
   "codemirror_mode": {
    "name": "ipython",
    "version": 3
   },
   "file_extension": ".py",
   "mimetype": "text/x-python",
   "name": "python",
   "nbconvert_exporter": "python",
   "pygments_lexer": "ipython3",
   "version": "3.8.5"
  }
 },
 "nbformat": 4,
 "nbformat_minor": 5
}
