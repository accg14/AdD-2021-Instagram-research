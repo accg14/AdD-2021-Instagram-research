{
 "cells": [
  {
   "cell_type": "markdown",
   "id": "417efa82",
   "metadata": {},
   "source": [
    "# Introducción\n",
    "El siguiente notebook estudia las relaciones entre los actores más destacados -_influencers_-de la comunidad del deporte en UY.\n",
    "El estudio se centra en encontrar al actor fundamental, es decir con la mayor ponderación (definida más adelante) de dicha comunidad a partir de la construcción de un digrafo donde las nodos son dichos actores, los arcos relaciones (seguimiento en la red Instagram) y distintas medidas de peso de los nodos:\n",
    "* Centralidad de intermediación | _betweenness_\n",
    "* Centralidad de grado (incidente) | _in degree_\n",
    "* Cantidad de seguidores (total de la comunidad)\n",
    "\n",
    "Además, la topología del grafo es examinada en pos de reconocer comunidades dentro de este selecto grupo.\n"
   ]
  },
  {
   "cell_type": "code",
   "execution_count": 1,
   "id": "d9f8359d",
   "metadata": {},
   "outputs": [],
   "source": [
    "import pdb\n",
    "import csv\n",
    "import statistics\n",
    "import networkx as nx\n",
    "import numpy as np\n",
    "from IPython.display import SVG\n",
    "\n",
    "from influencers import INFLUENCERS_COMMUNITY\n",
    "\n",
    "import sknetwork\n",
    "from sknetwork.visualization import svg_digraph\n",
    "from sknetwork.utils import edgelist2adjacency\n",
    "from sknetwork.data import convert_edge_list\n",
    "from sknetwork.ranking import Katz\n",
    "\n",
    "import matplotlib.pyplot as plt"
   ]
  },
  {
   "cell_type": "markdown",
   "id": "74aa78a3",
   "metadata": {},
   "source": [
    "# Construcción del grafo ⚙️"
   ]
  },
  {
   "cell_type": "code",
   "execution_count": 2,
   "id": "f8e2b7ef",
   "metadata": {},
   "outputs": [],
   "source": [
    "candidates = {}\n",
    "edges = []\n",
    "nodes = []\n",
    "nodes_names = []\n",
    "node_weights = []"
   ]
  },
  {
   "cell_type": "markdown",
   "id": "f99f8b39",
   "metadata": {},
   "source": [
    "## Extracción desde las fuentes 🗄\n",
    "La extracción sobre los perfiles se obtiene a partir de un archivo JSON generado manualmente. El enfoque inicial consistía en recuperar información exhaustiva de los perfiles empleando el repositorio [Instagram-Follower-Scraper](https://github.com/amitupreti/Instagram-Follower-Scraper), pero luego de obtener una cantidad menor de seguidores (40% aprox), la IP desde donde se ejecuta es agregada a una lista negra por más de 24hs, por lo que quedó fuera del alcance por no escalar. ❌"
   ]
  },
  {
   "cell_type": "code",
   "execution_count": 3,
   "id": "e12862f3",
   "metadata": {},
   "outputs": [],
   "source": [
    "for influencer in INFLUENCERS_COMMUNITY.keys():\n",
    "    node_id = INFLUENCERS_COMMUNITY[influencer]['id']\n",
    "    node_name = influencer\n",
    "    node_weight = INFLUENCERS_COMMUNITY[influencer]['total_followers']\n",
    "    node_edges = INFLUENCERS_COMMUNITY[influencer]['influencers_followers']\n",
    "    \n",
    "    nodes_names.append(node_name)\n",
    "    node_weights.append(node_weight)\n",
    "\n",
    "    for neighbor_node in node_edges:\n",
    "        neighbor_id = INFLUENCERS_COMMUNITY[neighbor_node]['id']\n",
    "        edges.append((neighbor_id, node_id))"
   ]
  },
  {
   "cell_type": "markdown",
   "id": "c4e97ee4",
   "metadata": {},
   "source": [
    "## Construcción del grafo base 💻\n",
    "El grafo base es generado a partir de una lista de adyancencia y de manera dual, utilizando las librerías [sknetwork](https://scikit-network.readthedocs.io/en/latest/) para visualización y [networkx](https://networkx.org/) para el estudio del mismo."
   ]
  },
  {
   "cell_type": "code",
   "execution_count": 4,
   "id": "46ab917c",
   "metadata": {},
   "outputs": [],
   "source": [
    "skn_graph = convert_edge_list(edges, directed=True) # sknetwork graph \n",
    "netx_graph = nx.convert_matrix.from_scipy_sparse_matrix(skn_graph.adjacency, create_using=nx.DiGraph) #networkx"
   ]
  },
  {
   "cell_type": "markdown",
   "id": "799e6989",
   "metadata": {},
   "source": [
    "Los candidatos son puntuados durante el estudio, donde los primeros tres _rankeados_ generan una puntuación para eventualmente ser elegidos como el candidato más adecuado."
   ]
  },
  {
   "cell_type": "code",
   "execution_count": 5,
   "id": "dbf7c66f",
   "metadata": {},
   "outputs": [],
   "source": [
    "def save_candidate(candidate, position):\n",
    "    points = 3 - position\n",
    "    candidates[candidate] = candidates.get(candidate, 0) + points"
   ]
  },
  {
   "cell_type": "markdown",
   "id": "19cf3354",
   "metadata": {},
   "source": [
    "# Estudio de centralidad"
   ]
  },
  {
   "cell_type": "code",
   "execution_count": 6,
   "id": "648a0ac1",
   "metadata": {},
   "outputs": [],
   "source": [
    "def list_nodes_centrality(centrality):\n",
    "    nodes_centrality = []\n",
    "    for key in centrality.keys():\n",
    "        centrality_value = centrality[key]\n",
    "        nodes_centrality.append(centrality_value)\n",
    "    return nodes_centrality"
   ]
  },
  {
   "cell_type": "code",
   "execution_count": 7,
   "id": "e8554d89",
   "metadata": {},
   "outputs": [],
   "source": [
    "def show_main_influencers(nodes_centralities, centrality_type):\n",
    "    zipped_nodes = list(zip(nodes_names, nodes_centralities))\n",
    "    zipped_nodes.sort(key=lambda x: x[1], reverse=True)\n",
    "    podium = zipped_nodes[:3]\n",
    "    print(\"\\033[1m\"+\"Influencers con mayor centralidad\"+\"\\033[0m\")\n",
    "    for spot in podium:\n",
    "        candidate_pos = podium.index(spot)\n",
    "        save_candidate(spot[0], candidate_pos)\n",
    "        print(\"Influencer: \"+spot[0])\n",
    "        print(\"     \"+centrality_type+\": \"+str(spot[1]))\n",
    "        print(\"------------------------------------------\")"
   ]
  },
  {
   "cell_type": "markdown",
   "id": "0126e12b",
   "metadata": {},
   "source": [
    "## Centralidad de intermediación 'betweenness'\n",
    "Estudio de la centralidad desde el enfoque de intermediación."
   ]
  },
  {
   "cell_type": "code",
   "execution_count": 8,
   "id": "f2b0ad4e",
   "metadata": {},
   "outputs": [],
   "source": [
    "betweenness_centrality = nx.betweenness_centrality(netx_graph)"
   ]
  },
  {
   "cell_type": "code",
   "execution_count": 9,
   "id": "8866a3d7",
   "metadata": {},
   "outputs": [],
   "source": [
    "betweenness_centrality_weights = list_nodes_centrality(betweenness_centrality)"
   ]
  },
  {
   "cell_type": "code",
   "execution_count": 10,
   "id": "1271a916",
   "metadata": {},
   "outputs": [
    {
     "name": "stdout",
     "output_type": "stream",
     "text": [
      "\u001b[1mInfluencers con mayor centralidad\u001b[0m\n",
      "Influencer: jimenaalzogaray._\n",
      "     betweenness_centrality: 0.23636363636363636\n",
      "------------------------------------------\n",
      "Influencer: fedesfit\n",
      "     betweenness_centrality: 0.1393939393939394\n",
      "------------------------------------------\n",
      "Influencer: vico_frascolla\n",
      "     betweenness_centrality: 0.12121212121212122\n",
      "------------------------------------------\n"
     ]
    }
   ],
   "source": [
    "show_main_influencers(betweenness_centrality_weights, 'betweenness_centrality')"
   ]
  },
  {
   "cell_type": "code",
   "execution_count": 11,
   "id": "25d152f2",
   "metadata": {},
   "outputs": [
    {
     "name": "stdout",
     "output_type": "stream",
     "text": [
      "Visualización del grafo\n"
     ]
    },
    {
     "data": {
      "image/svg+xml": [
       "<svg xmlns=\"http://www.w3.org/2000/svg\" width=\"578.0\" height=\"340\">\n",
       "<defs><marker id=\"arrow\" markerWidth=\"10\" markerHeight=\"10\" refX=\"9\" refY=\"3\" orient=\"auto\">\n",
       "<path d=\"M0,0 L0,6 L9,3 z\" fill=\"gray\"/></marker></defs>\n",
       "<path stroke-width=\"1\" stroke=\"gray\" d=\"M 351 123 275 105\" marker-end=\"url(#arrow)\"/>\n",
       "<path stroke-width=\"1\" stroke=\"gray\" d=\"M 286 154 348 124\" marker-end=\"url(#arrow)\"/>\n",
       "<path stroke-width=\"1\" stroke=\"gray\" d=\"M 286 154 274 223\" marker-end=\"url(#arrow)\"/>\n",
       "<path stroke-width=\"1\" stroke=\"gray\" d=\"M 286 154 193 109\" marker-end=\"url(#arrow)\"/>\n",
       "<path stroke-width=\"1\" stroke=\"gray\" d=\"M 286 154 168 154\" marker-end=\"url(#arrow)\"/>\n",
       "<path stroke-width=\"1\" stroke=\"gray\" d=\"M 286 154 255 175\" marker-end=\"url(#arrow)\"/>\n",
       "<path stroke-width=\"1\" stroke=\"gray\" d=\"M 165 154 269 106\" marker-end=\"url(#arrow)\"/>\n",
       "<path stroke-width=\"1\" stroke=\"gray\" d=\"M 187 106 240 172\" marker-end=\"url(#arrow)\"/>\n",
       "<path stroke-width=\"1\" stroke=\"gray\" d=\"M 165 154 267 154\" marker-end=\"url(#arrow)\"/>\n",
       "<path stroke-width=\"1\" stroke=\"gray\" d=\"M 246 180 140 292\" marker-end=\"url(#arrow)\"/>\n",
       "<path stroke-width=\"1\" stroke=\"gray\" d=\"M 246 180 271 108\" marker-end=\"url(#arrow)\"/>\n",
       "<path stroke-width=\"1\" stroke=\"gray\" d=\"M 246 180 270 164\" marker-end=\"url(#arrow)\"/>\n",
       "<path stroke-width=\"1\" stroke=\"gray\" d=\"M 369 181 352 126\" marker-end=\"url(#arrow)\"/>\n",
       "<path stroke-width=\"1\" stroke=\"gray\" d=\"M 369 181 282 230\" marker-end=\"url(#arrow)\"/>\n",
       "<path stroke-width=\"1\" stroke=\"gray\" d=\"M 369 181 193 108\" marker-end=\"url(#arrow)\"/>\n",
       "<path stroke-width=\"1\" stroke=\"gray\" d=\"M 246 180 348 124\" marker-end=\"url(#arrow)\"/>\n",
       "<path stroke-width=\"1\" stroke=\"gray\" d=\"M 187 106 166 151\" marker-end=\"url(#arrow)\"/>\n",
       "<path stroke-width=\"1\" stroke=\"gray\" d=\"M 187 106 269 146\" marker-end=\"url(#arrow)\"/>\n",
       "<path stroke-width=\"1\" stroke=\"gray\" d=\"M 187 106 348 123\" marker-end=\"url(#arrow)\"/>\n",
       "<path stroke-width=\"1\" stroke=\"gray\" d=\"M 351 123 304 146\" marker-end=\"url(#arrow)\"/>\n",
       "<path stroke-width=\"1\" stroke=\"gray\" d=\"M 351 123 255 175\" marker-end=\"url(#arrow)\"/>\n",
       "<path stroke-width=\"1\" stroke=\"gray\" d=\"M 263 320 140 292\" marker-end=\"url(#arrow)\"/>\n",
       "<path stroke-width=\"1\" stroke=\"gray\" d=\"M 263 320 271 247\" marker-end=\"url(#arrow)\"/>\n",
       "<path stroke-width=\"1\" stroke=\"gray\" d=\"M 420 70 353 121\" marker-end=\"url(#arrow)\"/>\n",
       "<path stroke-width=\"1\" stroke=\"gray\" d=\"M 420 70 275 105\" marker-end=\"url(#arrow)\"/>\n",
       "<path stroke-width=\"1\" stroke=\"gray\" d=\"M 420 70 302 144\" marker-end=\"url(#arrow)\"/>\n",
       "<path stroke-width=\"1\" stroke=\"gray\" d=\"M 272 235 263 319\" marker-end=\"url(#arrow)\"/>\n",
       "<path stroke-width=\"1\" stroke=\"gray\" d=\"M 272 235 283 173\" marker-end=\"url(#arrow)\"/>\n",
       "<path stroke-width=\"1\" stroke=\"gray\" d=\"M 272 235 167 156\" marker-end=\"url(#arrow)\"/>\n",
       "<path stroke-width=\"1\" stroke=\"gray\" d=\"M 272 235 250 189\" marker-end=\"url(#arrow)\"/>\n",
       "<path stroke-width=\"1\" stroke=\"gray\" d=\"M 20 20 181 103\" marker-end=\"url(#arrow)\"/>\n",
       "<path stroke-width=\"1\" stroke=\"gray\" d=\"M 272 105 348 123\" marker-end=\"url(#arrow)\"/>\n",
       "<path stroke-width=\"1\" stroke=\"gray\" d=\"M 272 105 168 153\" marker-end=\"url(#arrow)\"/>\n",
       "<path stroke-width=\"1\" stroke=\"gray\" d=\"M 272 105 249 170\" marker-end=\"url(#arrow)\"/>\n",
       "<path stroke-width=\"1\" stroke=\"gray\" d=\"M 369 181 305 160\" marker-end=\"url(#arrow)\"/>\n",
       "<path stroke-width=\"1\" stroke=\"gray\" d=\"M 369 181 256 180\" marker-end=\"url(#arrow)\"/>\n",
       "<circle cx=\"351\" cy=\"123\" r=\"3.5576923076923075\" style=\"fill:gray;stroke:black;stroke-width:1.0\"/>\n",
       "<circle cx=\"263\" cy=\"320\" r=\"1.3653846153846154\" style=\"fill:gray;stroke:black;stroke-width:1.0\"/>\n",
       "<circle cx=\"140\" cy=\"292\" r=\"1.0\" style=\"fill:gray;stroke:black;stroke-width:1.0\"/>\n",
       "<circle cx=\"420\" cy=\"70\" r=\"1.0\" style=\"fill:gray;stroke:black;stroke-width:1.0\"/>\n",
       "<circle cx=\"272\" cy=\"235\" r=\"12.205128205128204\" style=\"fill:gray;stroke:black;stroke-width:1.0\"/>\n",
       "<circle cx=\"20\" cy=\"20\" r=\"1.0\" style=\"fill:gray;stroke:black;stroke-width:1.0\"/>\n",
       "<circle cx=\"272\" cy=\"105\" r=\"3.6794871794871793\" style=\"fill:gray;stroke:black;stroke-width:1.0\"/>\n",
       "<circle cx=\"187\" cy=\"106\" r=\"7.089743589743589\" style=\"fill:gray;stroke:black;stroke-width:1.0\"/>\n",
       "<circle cx=\"286\" cy=\"154\" r=\"20.0\" style=\"fill:gray;stroke:black;stroke-width:1.0\"/>\n",
       "<circle cx=\"165\" cy=\"154\" r=\"3.435897435897436\" style=\"fill:gray;stroke:black;stroke-width:1.0\"/>\n",
       "<circle cx=\"246\" cy=\"180\" r=\"10.743589743589745\" style=\"fill:gray;stroke:black;stroke-width:1.0\"/>\n",
       "<circle cx=\"369\" cy=\"181\" r=\"1.0\" style=\"fill:gray;stroke:black;stroke-width:1.0\"/>\n",
       "<text x=\"365\" y=\"127\" font-size=\"12\">santicomba</text><text x=\"275\" y=\"321\" font-size=\"12\">maitef.fitness</text><text x=\"151\" y=\"293\" font-size=\"12\">ivi_quirog</text><text x=\"431\" y=\"71\" font-size=\"12\">entrenamiento_trouville</text><text x=\"294\" y=\"247\" font-size=\"12\">fedesfit</text><text x=\"31\" y=\"21\" font-size=\"12\">maguitolosa1</text><text x=\"286\" y=\"109\" font-size=\"12\">fit_person</text><text x=\"205\" y=\"113\" font-size=\"12\">gentuli</text><text x=\"316\" y=\"174\" font-size=\"12\">jimenaalzogaray._</text><text x=\"178\" y=\"157\" font-size=\"12\">jmseitun</text><text x=\"267\" y=\"191\" font-size=\"12\">vico_frascolla</text><text x=\"380\" y=\"182\" font-size=\"12\">cami.filmel</text></svg>"
      ],
      "text/plain": [
       "<IPython.core.display.SVG object>"
      ]
     },
     "execution_count": 11,
     "metadata": {},
     "output_type": "execute_result"
    }
   ],
   "source": [
    "image = svg_digraph(skn_graph.adjacency,names=nodes_names,display_node_weight=True,node_weights = np.array(betweenness_centrality_weights))\n",
    "print(\"Visualización del grafo\")\n",
    "SVG(image)"
   ]
  },
  {
   "cell_type": "markdown",
   "id": "7f5b89bb",
   "metadata": {},
   "source": [
    "## Centralidad de grado 'in degree'"
   ]
  },
  {
   "cell_type": "code",
   "execution_count": 12,
   "id": "2b38acaf",
   "metadata": {},
   "outputs": [],
   "source": [
    "in_degree_centrality = nx.in_degree_centrality(netx_graph)"
   ]
  },
  {
   "cell_type": "code",
   "execution_count": 13,
   "id": "fbe07289",
   "metadata": {},
   "outputs": [],
   "source": [
    "in_degree_centrality_weights = list_nodes_centrality(in_degree_centrality)"
   ]
  },
  {
   "cell_type": "code",
   "execution_count": 14,
   "id": "cd510e81",
   "metadata": {},
   "outputs": [
    {
     "name": "stdout",
     "output_type": "stream",
     "text": [
      "\u001b[1mInfluencers con mayor centralidad\u001b[0m\n",
      "Influencer: jimenaalzogaray._\n",
      "     in_degree_centrality: 0.6363636363636364\n",
      "------------------------------------------\n",
      "Influencer: santicomba\n",
      "     in_degree_centrality: 0.5454545454545454\n",
      "------------------------------------------\n",
      "Influencer: vico_frascolla\n",
      "     in_degree_centrality: 0.5454545454545454\n",
      "------------------------------------------\n"
     ]
    }
   ],
   "source": [
    "show_main_influencers(in_degree_centrality_weights, 'in_degree_centrality')"
   ]
  },
  {
   "cell_type": "code",
   "execution_count": 15,
   "id": "cf6b42ed",
   "metadata": {},
   "outputs": [
    {
     "name": "stdout",
     "output_type": "stream",
     "text": [
      "Visualización del grafo\n"
     ]
    },
    {
     "data": {
      "image/svg+xml": [
       "<svg xmlns=\"http://www.w3.org/2000/svg\" width=\"578.0\" height=\"340\">\n",
       "<defs><marker id=\"arrow\" markerWidth=\"10\" markerHeight=\"10\" refX=\"9\" refY=\"3\" orient=\"auto\">\n",
       "<path d=\"M0,0 L0,6 L9,3 z\" fill=\"gray\"/></marker></defs>\n",
       "<path stroke-width=\"1\" stroke=\"gray\" d=\"M 166 268 145 217\" marker-end=\"url(#arrow)\"/>\n",
       "<path stroke-width=\"1\" stroke=\"gray\" d=\"M 202 213 175 254\" marker-end=\"url(#arrow)\"/>\n",
       "<path stroke-width=\"1\" stroke=\"gray\" d=\"M 202 213 301 199\" marker-end=\"url(#arrow)\"/>\n",
       "<path stroke-width=\"1\" stroke=\"gray\" d=\"M 202 213 145 147\" marker-end=\"url(#arrow)\"/>\n",
       "<path stroke-width=\"1\" stroke=\"gray\" d=\"M 202 213 201 130\" marker-end=\"url(#arrow)\"/>\n",
       "<path stroke-width=\"1\" stroke=\"gray\" d=\"M 202 213 225 193\" marker-end=\"url(#arrow)\"/>\n",
       "<path stroke-width=\"1\" stroke=\"gray\" d=\"M 201 119 147 198\" marker-end=\"url(#arrow)\"/>\n",
       "<path stroke-width=\"1\" stroke=\"gray\" d=\"M 139 141 222 176\" marker-end=\"url(#arrow)\"/>\n",
       "<path stroke-width=\"1\" stroke=\"gray\" d=\"M 201 119 202 194\" marker-end=\"url(#arrow)\"/>\n",
       "<path stroke-width=\"1\" stroke=\"gray\" d=\"M 237 182 375 94\" marker-end=\"url(#arrow)\"/>\n",
       "<path stroke-width=\"1\" stroke=\"gray\" d=\"M 237 182 152 205\" marker-end=\"url(#arrow)\"/>\n",
       "<path stroke-width=\"1\" stroke=\"gray\" d=\"M 237 182 217 200\" marker-end=\"url(#arrow)\"/>\n",
       "<path stroke-width=\"1\" stroke=\"gray\" d=\"M 240 277 183 270\" marker-end=\"url(#arrow)\"/>\n",
       "<path stroke-width=\"1\" stroke=\"gray\" d=\"M 240 277 304 204\" marker-end=\"url(#arrow)\"/>\n",
       "<path stroke-width=\"1\" stroke=\"gray\" d=\"M 240 277 144 148\" marker-end=\"url(#arrow)\"/>\n",
       "<path stroke-width=\"1\" stroke=\"gray\" d=\"M 237 182 176 255\" marker-end=\"url(#arrow)\"/>\n",
       "<path stroke-width=\"1\" stroke=\"gray\" d=\"M 139 141 190 122\" marker-end=\"url(#arrow)\"/>\n",
       "<path stroke-width=\"1\" stroke=\"gray\" d=\"M 139 141 189 198\" marker-end=\"url(#arrow)\"/>\n",
       "<path stroke-width=\"1\" stroke=\"gray\" d=\"M 139 141 163 252\" marker-end=\"url(#arrow)\"/>\n",
       "<path stroke-width=\"1\" stroke=\"gray\" d=\"M 166 268 192 229\" marker-end=\"url(#arrow)\"/>\n",
       "<path stroke-width=\"1\" stroke=\"gray\" d=\"M 166 268 227 195\" marker-end=\"url(#arrow)\"/>\n",
       "<path stroke-width=\"1\" stroke=\"gray\" d=\"M 420 185 382 96\" marker-end=\"url(#arrow)\"/>\n",
       "<path stroke-width=\"1\" stroke=\"gray\" d=\"M 420 185 319 197\" marker-end=\"url(#arrow)\"/>\n",
       "<path stroke-width=\"1\" stroke=\"gray\" d=\"M 95 320 153 278\" marker-end=\"url(#arrow)\"/>\n",
       "<path stroke-width=\"1\" stroke=\"gray\" d=\"M 95 320 137 218\" marker-end=\"url(#arrow)\"/>\n",
       "<path stroke-width=\"1\" stroke=\"gray\" d=\"M 95 320 188 227\" marker-end=\"url(#arrow)\"/>\n",
       "<path stroke-width=\"1\" stroke=\"gray\" d=\"M 310 198 417 185\" marker-end=\"url(#arrow)\"/>\n",
       "<path stroke-width=\"1\" stroke=\"gray\" d=\"M 310 198 221 211\" marker-end=\"url(#arrow)\"/>\n",
       "<path stroke-width=\"1\" stroke=\"gray\" d=\"M 310 198 210 125\" marker-end=\"url(#arrow)\"/>\n",
       "<path stroke-width=\"1\" stroke=\"gray\" d=\"M 310 198 253 185\" marker-end=\"url(#arrow)\"/>\n",
       "<path stroke-width=\"1\" stroke=\"gray\" d=\"M 20 20 133 135\" marker-end=\"url(#arrow)\"/>\n",
       "<path stroke-width=\"1\" stroke=\"gray\" d=\"M 141 207 160 253\" marker-end=\"url(#arrow)\"/>\n",
       "<path stroke-width=\"1\" stroke=\"gray\" d=\"M 141 207 195 128\" marker-end=\"url(#arrow)\"/>\n",
       "<path stroke-width=\"1\" stroke=\"gray\" d=\"M 141 207 221 186\" marker-end=\"url(#arrow)\"/>\n",
       "<path stroke-width=\"1\" stroke=\"gray\" d=\"M 240 277 212 230\" marker-end=\"url(#arrow)\"/>\n",
       "<path stroke-width=\"1\" stroke=\"gray\" d=\"M 240 277 237 199\" marker-end=\"url(#arrow)\"/>\n",
       "<circle cx=\"166\" cy=\"268\" r=\"17.285714285714285\" style=\"fill:gray;stroke:black;stroke-width:1.0\"/>\n",
       "<circle cx=\"420\" cy=\"185\" r=\"3.7142857142857144\" style=\"fill:gray;stroke:black;stroke-width:1.0\"/>\n",
       "<circle cx=\"380\" cy=\"91\" r=\"6.428571428571429\" style=\"fill:gray;stroke:black;stroke-width:1.0\"/>\n",
       "<circle cx=\"95\" cy=\"320\" r=\"1.0\" style=\"fill:gray;stroke:black;stroke-width:1.0\"/>\n",
       "<circle cx=\"310\" cy=\"198\" r=\"9.142857142857142\" style=\"fill:gray;stroke:black;stroke-width:1.0\"/>\n",
       "<circle cx=\"20\" cy=\"20\" r=\"1.0\" style=\"fill:gray;stroke:black;stroke-width:1.0\"/>\n",
       "<circle cx=\"141\" cy=\"207\" r=\"11.857142857142858\" style=\"fill:gray;stroke:black;stroke-width:1.0\"/>\n",
       "<circle cx=\"139\" cy=\"141\" r=\"9.142857142857142\" style=\"fill:gray;stroke:black;stroke-width:1.0\"/>\n",
       "<circle cx=\"202\" cy=\"213\" r=\"20.0\" style=\"fill:gray;stroke:black;stroke-width:1.0\"/>\n",
       "<circle cx=\"201\" cy=\"119\" r=\"11.857142857142858\" style=\"fill:gray;stroke:black;stroke-width:1.0\"/>\n",
       "<circle cx=\"237\" cy=\"182\" r=\"17.285714285714285\" style=\"fill:gray;stroke:black;stroke-width:1.0\"/>\n",
       "<circle cx=\"240\" cy=\"277\" r=\"1.0\" style=\"fill:gray;stroke:black;stroke-width:1.0\"/>\n",
       "<text x=\"194\" y=\"285\" font-size=\"12\">santicomba</text><text x=\"433\" y=\"189\" font-size=\"12\">maitef.fitness</text><text x=\"397\" y=\"98\" font-size=\"12\">ivi_quirog</text><text x=\"106\" y=\"321\" font-size=\"12\">entrenamiento_trouville</text><text x=\"330\" y=\"207\" font-size=\"12\">fedesfit</text><text x=\"31\" y=\"21\" font-size=\"12\">maguitolosa1</text><text x=\"162\" y=\"218\" font-size=\"12\">fit_person</text><text x=\"158\" y=\"150\" font-size=\"12\">gentuli</text><text x=\"232\" y=\"233\" font-size=\"12\">jimenaalzogaray._</text><text x=\"223\" y=\"131\" font-size=\"12\">jmseitun</text><text x=\"264\" y=\"199\" font-size=\"12\">vico_frascolla</text><text x=\"251\" y=\"278\" font-size=\"12\">cami.filmel</text></svg>"
      ],
      "text/plain": [
       "<IPython.core.display.SVG object>"
      ]
     },
     "execution_count": 15,
     "metadata": {},
     "output_type": "execute_result"
    }
   ],
   "source": [
    "image = svg_digraph(skn_graph.adjacency,names=nodes_names,display_node_weight=True,node_weights = np.array(in_degree_centrality_weights))\n",
    "print(\"Visualización del grafo\")\n",
    "SVG(image)"
   ]
  },
  {
   "cell_type": "markdown",
   "id": "3fcf962a",
   "metadata": {},
   "source": [
    "## Componentes (fuertemente) conexas 🌐"
   ]
  },
  {
   "cell_type": "code",
   "execution_count": 16,
   "id": "2fe3e857",
   "metadata": {},
   "outputs": [],
   "source": [
    "def get_nodes_names(connected_component):\n",
    "    connected_component_list = list(connected_component)\n",
    "    connected_component_names = list(map(lambda x: nodes_names[x], connected_component_list))\n",
    "    return connected_component_names"
   ]
  },
  {
   "cell_type": "code",
   "execution_count": 17,
   "id": "d9da2676",
   "metadata": {},
   "outputs": [],
   "source": [
    "def get_connected_components(graph):\n",
    "    final = []\n",
    "    connected_components = list(nx.strongly_connected_components(graph))\n",
    "    for connected_component in connected_components:\n",
    "        connected_component_names = get_nodes_names(connected_component)\n",
    "        final.append(connected_component_names)\n",
    "    sorted_final = list(sorted(final, key = lambda x: len(x)))\n",
    "    return sorted_final"
   ]
  },
  {
   "cell_type": "code",
   "execution_count": 18,
   "id": "fb3ee318",
   "metadata": {},
   "outputs": [],
   "source": [
    "connected_components = get_connected_components(netx_graph)\n",
    "\n",
    "labels = sknetwork.topology.connected_components(skn_graph.adjacency, connection='strong')\n",
    "names = nodes_names\n",
    "image = svg_digraph(skn_graph.adjacency,names=nodes_names, labels=labels)"
   ]
  },
  {
   "cell_type": "code",
   "execution_count": 19,
   "id": "394045fb",
   "metadata": {},
   "outputs": [
    {
     "name": "stdout",
     "output_type": "stream",
     "text": [
      "\u001b[1mComponente conexa:\u001b[0m\n",
      "   Nodos:\n",
      "     ivi_quirog\n",
      "------------------------------------------\n",
      "\u001b[1mComponente conexa:\u001b[0m\n",
      "   Nodos:\n",
      "     entrenamiento_trouville\n",
      "------------------------------------------\n",
      "\u001b[1mComponente conexa:\u001b[0m\n",
      "   Nodos:\n",
      "     maguitolosa1\n",
      "------------------------------------------\n",
      "\u001b[1mComponente conexa:\u001b[0m\n",
      "   Nodos:\n",
      "     cami.filmel\n",
      "------------------------------------------\n",
      "\u001b[1mComponente conexa:\u001b[0m\n",
      "   Nodos:\n",
      "     santicomba\n",
      "     maitef.fitness\n",
      "     fedesfit\n",
      "     fit_person\n",
      "     gentuli\n",
      "     jimenaalzogaray._\n",
      "     jmseitun\n",
      "     vico_frascolla\n",
      "------------------------------------------\n"
     ]
    }
   ],
   "source": [
    "for connected_component in connected_components:\n",
    "    print(\"\\033[1m\"+\"Componente conexa:\"+\"\\033[0m\")\n",
    "    print(\"   Nodos:\")\n",
    "    for node in connected_component:\n",
    "        print(\"     \" + node)\n",
    "    print(\"------------------------------------------\")"
   ]
  },
  {
   "cell_type": "code",
   "execution_count": 20,
   "id": "41540344",
   "metadata": {},
   "outputs": [
    {
     "data": {
      "image/svg+xml": [
       "<svg xmlns=\"http://www.w3.org/2000/svg\" width=\"578.0\" height=\"340\">\n",
       "<defs><marker id=\"arrow\" markerWidth=\"10\" markerHeight=\"10\" refX=\"9\" refY=\"3\" orient=\"auto\">\n",
       "<path d=\"M0,0 L0,6 L9,3 z\" fill=\"gray\"/></marker></defs>\n",
       "<path stroke-width=\"1\" stroke=\"gray\" d=\"M 325 275 331 223\" marker-end=\"url(#arrow)\"/>\n",
       "<path stroke-width=\"1\" stroke=\"gray\" d=\"M 266 246 319 272\" marker-end=\"url(#arrow)\"/>\n",
       "<path stroke-width=\"1\" stroke=\"gray\" d=\"M 266 246 149 282\" marker-end=\"url(#arrow)\"/>\n",
       "<path stroke-width=\"1\" stroke=\"gray\" d=\"M 266 246 302 175\" marker-end=\"url(#arrow)\"/>\n",
       "<path stroke-width=\"1\" stroke=\"gray\" d=\"M 266 246 232 184\" marker-end=\"url(#arrow)\"/>\n",
       "<path stroke-width=\"1\" stroke=\"gray\" d=\"M 266 246 217 242\" marker-end=\"url(#arrow)\"/>\n",
       "<path stroke-width=\"1\" stroke=\"gray\" d=\"M 229 178 325 215\" marker-end=\"url(#arrow)\"/>\n",
       "<path stroke-width=\"1\" stroke=\"gray\" d=\"M 305 169 216 238\" marker-end=\"url(#arrow)\"/>\n",
       "<path stroke-width=\"1\" stroke=\"gray\" d=\"M 229 178 263 240\" marker-end=\"url(#arrow)\"/>\n",
       "<path stroke-width=\"1\" stroke=\"gray\" d=\"M 211 242 34 231\" marker-end=\"url(#arrow)\"/>\n",
       "<path stroke-width=\"1\" stroke=\"gray\" d=\"M 211 242 325 218\" marker-end=\"url(#arrow)\"/>\n",
       "<path stroke-width=\"1\" stroke=\"gray\" d=\"M 211 242 260 246\" marker-end=\"url(#arrow)\"/>\n",
       "<path stroke-width=\"1\" stroke=\"gray\" d=\"M 247 314 319 278\" marker-end=\"url(#arrow)\"/>\n",
       "<path stroke-width=\"1\" stroke=\"gray\" d=\"M 247 314 149 285\" marker-end=\"url(#arrow)\"/>\n",
       "<path stroke-width=\"1\" stroke=\"gray\" d=\"M 247 314 303 175\" marker-end=\"url(#arrow)\"/>\n",
       "<path stroke-width=\"1\" stroke=\"gray\" d=\"M 211 242 319 274\" marker-end=\"url(#arrow)\"/>\n",
       "<path stroke-width=\"1\" stroke=\"gray\" d=\"M 305 169 235 178\" marker-end=\"url(#arrow)\"/>\n",
       "<path stroke-width=\"1\" stroke=\"gray\" d=\"M 305 169 269 240\" marker-end=\"url(#arrow)\"/>\n",
       "<path stroke-width=\"1\" stroke=\"gray\" d=\"M 305 169 324 269\" marker-end=\"url(#arrow)\"/>\n",
       "<path stroke-width=\"1\" stroke=\"gray\" d=\"M 325 275 272 249\" marker-end=\"url(#arrow)\"/>\n",
       "<path stroke-width=\"1\" stroke=\"gray\" d=\"M 325 275 217 243\" marker-end=\"url(#arrow)\"/>\n",
       "<path stroke-width=\"1\" stroke=\"gray\" d=\"M 20 320 28 237\" marker-end=\"url(#arrow)\"/>\n",
       "<path stroke-width=\"1\" stroke=\"gray\" d=\"M 20 320 137 285\" marker-end=\"url(#arrow)\"/>\n",
       "<path stroke-width=\"1\" stroke=\"gray\" d=\"M 420 286 331 275\" marker-end=\"url(#arrow)\"/>\n",
       "<path stroke-width=\"1\" stroke=\"gray\" d=\"M 420 286 336 221\" marker-end=\"url(#arrow)\"/>\n",
       "<path stroke-width=\"1\" stroke=\"gray\" d=\"M 420 286 272 247\" marker-end=\"url(#arrow)\"/>\n",
       "<path stroke-width=\"1\" stroke=\"gray\" d=\"M 143 284 26 319\" marker-end=\"url(#arrow)\"/>\n",
       "<path stroke-width=\"1\" stroke=\"gray\" d=\"M 143 284 260 248\" marker-end=\"url(#arrow)\"/>\n",
       "<path stroke-width=\"1\" stroke=\"gray\" d=\"M 143 284 225 183\" marker-end=\"url(#arrow)\"/>\n",
       "<path stroke-width=\"1\" stroke=\"gray\" d=\"M 143 284 206 245\" marker-end=\"url(#arrow)\"/>\n",
       "<path stroke-width=\"1\" stroke=\"gray\" d=\"M 382 20 308 163\" marker-end=\"url(#arrow)\"/>\n",
       "<path stroke-width=\"1\" stroke=\"gray\" d=\"M 331 217 325 269\" marker-end=\"url(#arrow)\"/>\n",
       "<path stroke-width=\"1\" stroke=\"gray\" d=\"M 331 217 235 180\" marker-end=\"url(#arrow)\"/>\n",
       "<path stroke-width=\"1\" stroke=\"gray\" d=\"M 331 217 217 241\" marker-end=\"url(#arrow)\"/>\n",
       "<path stroke-width=\"1\" stroke=\"gray\" d=\"M 247 314 265 252\" marker-end=\"url(#arrow)\"/>\n",
       "<path stroke-width=\"1\" stroke=\"gray\" d=\"M 247 314 214 248\" marker-end=\"url(#arrow)\"/>\n",
       "<circle cx=\"325\" cy=\"275\" r=\"7.0\" style=\"fill:red;stroke:black;stroke-width:1.0\"/>\n",
       "<circle cx=\"20\" cy=\"320\" r=\"7.0\" style=\"fill:red;stroke:black;stroke-width:1.0\"/>\n",
       "<circle cx=\"28\" cy=\"231\" r=\"7.0\" style=\"fill:blue;stroke:black;stroke-width:1.0\"/>\n",
       "<circle cx=\"420\" cy=\"286\" r=\"7.0\" style=\"fill:green;stroke:black;stroke-width:1.0\"/>\n",
       "<circle cx=\"143\" cy=\"284\" r=\"7.0\" style=\"fill:red;stroke:black;stroke-width:1.0\"/>\n",
       "<circle cx=\"382\" cy=\"20\" r=\"7.0\" style=\"fill:orange;stroke:black;stroke-width:1.0\"/>\n",
       "<circle cx=\"331\" cy=\"217\" r=\"7.0\" style=\"fill:red;stroke:black;stroke-width:1.0\"/>\n",
       "<circle cx=\"305\" cy=\"169\" r=\"7.0\" style=\"fill:red;stroke:black;stroke-width:1.0\"/>\n",
       "<circle cx=\"266\" cy=\"246\" r=\"7.0\" style=\"fill:red;stroke:black;stroke-width:1.0\"/>\n",
       "<circle cx=\"229\" cy=\"178\" r=\"7.0\" style=\"fill:red;stroke:black;stroke-width:1.0\"/>\n",
       "<circle cx=\"211\" cy=\"242\" r=\"7.0\" style=\"fill:red;stroke:black;stroke-width:1.0\"/>\n",
       "<circle cx=\"247\" cy=\"314\" r=\"7.0\" style=\"fill:purple;stroke:black;stroke-width:1.0\"/>\n",
       "<text x=\"342\" y=\"282\" font-size=\"12\">santicomba</text><text x=\"37\" y=\"327\" font-size=\"12\">maitef.fitness</text><text x=\"45\" y=\"238\" font-size=\"12\">ivi_quirog</text><text x=\"437\" y=\"293\" font-size=\"12\">entrenamiento_trouville</text><text x=\"160\" y=\"291\" font-size=\"12\">fedesfit</text><text x=\"399\" y=\"27\" font-size=\"12\">maguitolosa1</text><text x=\"348\" y=\"224\" font-size=\"12\">fit_person</text><text x=\"322\" y=\"176\" font-size=\"12\">gentuli</text><text x=\"283\" y=\"253\" font-size=\"12\">jimenaalzogaray._</text><text x=\"246\" y=\"185\" font-size=\"12\">jmseitun</text><text x=\"228\" y=\"249\" font-size=\"12\">vico_frascolla</text><text x=\"264\" y=\"321\" font-size=\"12\">cami.filmel</text></svg>"
      ],
      "text/plain": [
       "<IPython.core.display.SVG object>"
      ]
     },
     "execution_count": 20,
     "metadata": {},
     "output_type": "execute_result"
    }
   ],
   "source": [
    "SVG(image)"
   ]
  },
  {
   "cell_type": "markdown",
   "id": "b16458e4",
   "metadata": {},
   "source": [
    "## Cantidad de seguidores 👧👦"
   ]
  },
  {
   "cell_type": "code",
   "execution_count": 21,
   "id": "6d0c5cfa",
   "metadata": {},
   "outputs": [],
   "source": [
    "zipped_nodes = list(zip(nodes_names,node_weights))\n",
    "zipped_nodes.sort(key=lambda x: x[1], reverse=True)\n",
    "best_nodes = zipped_nodes[:3] \n",
    "for node in best_nodes:\n",
    "    position = best_nodes.index(node)\n",
    "    save_candidate(node[0],position)"
   ]
  },
  {
   "cell_type": "code",
   "execution_count": 22,
   "id": "cce57ef5",
   "metadata": {},
   "outputs": [
    {
     "data": {
      "image/svg+xml": [
       "<svg xmlns=\"http://www.w3.org/2000/svg\" width=\"578.0\" height=\"340\">\n",
       "<defs><marker id=\"arrow\" markerWidth=\"10\" markerHeight=\"10\" refX=\"9\" refY=\"3\" orient=\"auto\">\n",
       "<path d=\"M0,0 L0,6 L9,3 z\" fill=\"gray\"/></marker></defs>\n",
       "<path stroke-width=\"1\" stroke=\"gray\" d=\"M 297 103 320 67\" marker-end=\"url(#arrow)\"/>\n",
       "<path stroke-width=\"1\" stroke=\"gray\" d=\"M 266 137 290 110\" marker-end=\"url(#arrow)\"/>\n",
       "<path stroke-width=\"1\" stroke=\"gray\" d=\"M 266 137 158 87\" marker-end=\"url(#arrow)\"/>\n",
       "<path stroke-width=\"1\" stroke=\"gray\" d=\"M 266 137 295 199\" marker-end=\"url(#arrow)\"/>\n",
       "<path stroke-width=\"1\" stroke=\"gray\" d=\"M 266 137 334 128\" marker-end=\"url(#arrow)\"/>\n",
       "<path stroke-width=\"1\" stroke=\"gray\" d=\"M 266 137 218 101\" marker-end=\"url(#arrow)\"/>\n",
       "<path stroke-width=\"1\" stroke=\"gray\" d=\"M 336 128 328 69\" marker-end=\"url(#arrow)\"/>\n",
       "<path stroke-width=\"1\" stroke=\"gray\" d=\"M 296 201 217 102\" marker-end=\"url(#arrow)\"/>\n",
       "<path stroke-width=\"1\" stroke=\"gray\" d=\"M 336 128 271 137\" marker-end=\"url(#arrow)\"/>\n",
       "<path stroke-width=\"1\" stroke=\"gray\" d=\"M 216 100 23 75\" marker-end=\"url(#arrow)\"/>\n",
       "<path stroke-width=\"1\" stroke=\"gray\" d=\"M 216 100 315 60\" marker-end=\"url(#arrow)\"/>\n",
       "<path stroke-width=\"1\" stroke=\"gray\" d=\"M 216 100 262 134\" marker-end=\"url(#arrow)\"/>\n",
       "<path stroke-width=\"1\" stroke=\"gray\" d=\"M 190 170 288 108\" marker-end=\"url(#arrow)\"/>\n",
       "<path stroke-width=\"1\" stroke=\"gray\" d=\"M 190 170 157 88\" marker-end=\"url(#arrow)\"/>\n",
       "<path stroke-width=\"1\" stroke=\"gray\" d=\"M 190 170 294 201\" marker-end=\"url(#arrow)\"/>\n",
       "<path stroke-width=\"1\" stroke=\"gray\" d=\"M 216 100 287 103\" marker-end=\"url(#arrow)\"/>\n",
       "<path stroke-width=\"1\" stroke=\"gray\" d=\"M 296 201 335 130\" marker-end=\"url(#arrow)\"/>\n",
       "<path stroke-width=\"1\" stroke=\"gray\" d=\"M 296 201 268 141\" marker-end=\"url(#arrow)\"/>\n",
       "<path stroke-width=\"1\" stroke=\"gray\" d=\"M 296 201 297 113\" marker-end=\"url(#arrow)\"/>\n",
       "<path stroke-width=\"1\" stroke=\"gray\" d=\"M 297 103 269 134\" marker-end=\"url(#arrow)\"/>\n",
       "<path stroke-width=\"1\" stroke=\"gray\" d=\"M 297 103 218 100\" marker-end=\"url(#arrow)\"/>\n",
       "<path stroke-width=\"1\" stroke=\"gray\" d=\"M 56 20 21 73\" marker-end=\"url(#arrow)\"/>\n",
       "<path stroke-width=\"1\" stroke=\"gray\" d=\"M 56 20 156 87\" marker-end=\"url(#arrow)\"/>\n",
       "<path stroke-width=\"1\" stroke=\"gray\" d=\"M 420 77 307 101\" marker-end=\"url(#arrow)\"/>\n",
       "<path stroke-width=\"1\" stroke=\"gray\" d=\"M 420 77 339 58\" marker-end=\"url(#arrow)\"/>\n",
       "<path stroke-width=\"1\" stroke=\"gray\" d=\"M 420 77 270 136\" marker-end=\"url(#arrow)\"/>\n",
       "<path stroke-width=\"1\" stroke=\"gray\" d=\"M 157 87 57 21\" marker-end=\"url(#arrow)\"/>\n",
       "<path stroke-width=\"1\" stroke=\"gray\" d=\"M 157 87 262 135\" marker-end=\"url(#arrow)\"/>\n",
       "<path stroke-width=\"1\" stroke=\"gray\" d=\"M 157 87 334 128\" marker-end=\"url(#arrow)\"/>\n",
       "<path stroke-width=\"1\" stroke=\"gray\" d=\"M 157 87 214 100\" marker-end=\"url(#arrow)\"/>\n",
       "<path stroke-width=\"1\" stroke=\"gray\" d=\"M 373 320 297 203\" marker-end=\"url(#arrow)\"/>\n",
       "<path stroke-width=\"1\" stroke=\"gray\" d=\"M 327 56 302 94\" marker-end=\"url(#arrow)\"/>\n",
       "<path stroke-width=\"1\" stroke=\"gray\" d=\"M 327 56 336 126\" marker-end=\"url(#arrow)\"/>\n",
       "<path stroke-width=\"1\" stroke=\"gray\" d=\"M 327 56 218 99\" marker-end=\"url(#arrow)\"/>\n",
       "<path stroke-width=\"1\" stroke=\"gray\" d=\"M 190 170 262 139\" marker-end=\"url(#arrow)\"/>\n",
       "<path stroke-width=\"1\" stroke=\"gray\" d=\"M 190 170 216 102\" marker-end=\"url(#arrow)\"/>\n",
       "<circle cx=\"297\" cy=\"103\" r=\"10.765709923664122\" style=\"fill:gray;stroke:black;stroke-width:1.0\"/>\n",
       "<circle cx=\"56\" cy=\"20\" r=\"1.9656641221374045\" style=\"fill:gray;stroke:black;stroke-width:1.0\"/>\n",
       "<circle cx=\"20\" cy=\"75\" r=\"3.4386717557251907\" style=\"fill:gray;stroke:black;stroke-width:1.0\"/>\n",
       "<circle cx=\"420\" cy=\"77\" r=\"1.5830534351145038\" style=\"fill:gray;stroke:black;stroke-width:1.0\"/>\n",
       "<circle cx=\"157\" cy=\"87\" r=\"1.6776183206106872\" style=\"fill:gray;stroke:black;stroke-width:1.0\"/>\n",
       "<circle cx=\"373\" cy=\"320\" r=\"1.7083664122137403\" style=\"fill:gray;stroke:black;stroke-width:1.0\"/>\n",
       "<circle cx=\"327\" cy=\"56\" r=\"13.270229007633588\" style=\"fill:gray;stroke:black;stroke-width:1.0\"/>\n",
       "<circle cx=\"296\" cy=\"201\" r=\"2.8863664122137402\" style=\"fill:gray;stroke:black;stroke-width:1.0\"/>\n",
       "<circle cx=\"266\" cy=\"137\" r=\"5.235114503816794\" style=\"fill:gray;stroke:black;stroke-width:1.0\"/>\n",
       "<circle cx=\"336\" cy=\"128\" r=\"2.570763358778626\" style=\"fill:gray;stroke:black;stroke-width:1.0\"/>\n",
       "<circle cx=\"216\" cy=\"100\" r=\"2.79412213740458\" style=\"fill:gray;stroke:black;stroke-width:1.0\"/>\n",
       "<circle cx=\"190\" cy=\"170\" r=\"20.0\" style=\"fill:gray;stroke:black;stroke-width:1.0\"/>\n",
       "<text x=\"318\" y=\"113\" font-size=\"12\">santicomba</text><text x=\"68\" y=\"21\" font-size=\"12\">maitef.fitness</text><text x=\"33\" y=\"78\" font-size=\"12\">ivi_quirog</text><text x=\"431\" y=\"79\" font-size=\"12\">entrenamiento_trouville</text><text x=\"168\" y=\"88\" font-size=\"12\">fedesfit</text><text x=\"385\" y=\"321\" font-size=\"12\">maguitolosa1</text><text x=\"351\" y=\"69\" font-size=\"12\">fit_person</text><text x=\"309\" y=\"204\" font-size=\"12\">gentuli</text><text x=\"281\" y=\"142\" font-size=\"12\">jimenaalzogaray._</text><text x=\"349\" y=\"131\" font-size=\"12\">jmseitun</text><text x=\"229\" y=\"103\" font-size=\"12\">vico_frascolla</text><text x=\"220\" y=\"190\" font-size=\"12\">cami.filmel</text></svg>"
      ],
      "text/plain": [
       "<IPython.core.display.SVG object>"
      ]
     },
     "execution_count": 22,
     "metadata": {},
     "output_type": "execute_result"
    }
   ],
   "source": [
    "adjacency = skn_graph.adjacency\n",
    "image = svg_digraph(adjacency,names=nodes_names,display_node_weight=True,node_weights = np.array(node_weights))\n",
    "SVG(image)"
   ]
  },
  {
   "cell_type": "markdown",
   "id": "d52c5bd8",
   "metadata": {},
   "source": [
    "## Conclusión 🤝"
   ]
  },
  {
   "cell_type": "code",
   "execution_count": 23,
   "id": "23c8ab58",
   "metadata": {},
   "outputs": [
    {
     "name": "stdout",
     "output_type": "stream",
     "text": [
      "\u001b[1mInfluencer:\u001b[0m jimenaalzogaray._\n",
      "\u001b[1m     Points:\u001b[0m 6\n",
      "------------------------------------------\n",
      "\u001b[1mInfluencer:\u001b[0m santicomba\n",
      "\u001b[1m     Points:\u001b[0m 3\n",
      "------------------------------------------\n",
      "\u001b[1mInfluencer:\u001b[0m cami.filmel\n",
      "\u001b[1m     Points:\u001b[0m 3\n",
      "------------------------------------------\n",
      "\u001b[1mInfluencer:\u001b[0m fedesfit\n",
      "\u001b[1m     Points:\u001b[0m 2\n",
      "------------------------------------------\n",
      "\u001b[1mInfluencer:\u001b[0m vico_frascolla\n",
      "\u001b[1m     Points:\u001b[0m 2\n",
      "------------------------------------------\n",
      "\u001b[1mInfluencer:\u001b[0m fit_person\n",
      "\u001b[1m     Points:\u001b[0m 2\n",
      "------------------------------------------\n"
     ]
    }
   ],
   "source": [
    "best_nodes = []\n",
    "for name in candidates.keys():\n",
    "    node_ponderation = candidates[name]\n",
    "    best_nodes.append((name, node_ponderation))\n",
    "best_nodes.sort(key=lambda x: x[1], reverse=True)\n",
    "\n",
    "for node in best_nodes:\n",
    "    print(\"\\033[1m\"+\"Influencer:\"+\"\\033[0m\"+\" \"+node[0])\n",
    "    print(\"\\033[1m\"+\"     Points:\"+\"\\033[0m\"+\" \"+str(node[1]))\n",
    "    print(\"------------------------------------------\")"
   ]
  },
  {
   "cell_type": "markdown",
   "id": "5ffcca58",
   "metadata": {},
   "source": [
    "Si bien la elección intuitiva era seleccionar a la influencer _cami.filmel_ como la miembro destacada de la comunidad en cuestión, a partir de la cant. de seguidores que esta posee, no es ella la elección óptima según la ponderación generada, sino _jimenaalzogaray.\\__, si bien la primera es la segunda concluye en segundo lugar (compartida con _santicomba_)\n",
    "\n",
    "La primera posición de la influencer antes mencionada se debe a ser la de mayor centralidad tanto como nodo intermediario, como de grado (entrante). Además, los tres primeros actores, pertenecen a la misma componente conexa (la más grande)."
   ]
  },
  {
   "cell_type": "markdown",
   "id": "5b3c4907",
   "metadata": {},
   "source": [
    "# Trabajo futuro 📓\n",
    "\n",
    "Para siguientes iteraciones de esta investigación, será de valor obtener información exhaustiva de los seguidores de los influencers, incluida la cantidad de sus propios seguidores. Esto permitirá dimensionar las comunidades que siguen a cada influencer, identificar si son isoladas para cada uno de ellos o los miembros de una pertencen a otra.\n",
    "\n",
    "Luego, se podrán contruir nuevos _charts_ donde los perfiles puedan ganar o perder tracción.\n"
   ]
  },
  {
   "cell_type": "markdown",
   "id": "9fc16b55",
   "metadata": {},
   "source": [
    "# Perfiles estudiados 📱\n",
    "\n",
    "* [@santicomba](https://www.instagram.com/santicomba/)\n",
    "* [@maitef.fitness](https://www.instagram.com/maitef.fitness/)\n",
    "* [@ivi_quirog](https://www.instagram.com/ivi_quirog/?hl=en)\n",
    "* [@entrenamiento_trouville](https://www.instagram.com/entrenamiento_trouville/)\n",
    "* [@fedesfit](https://www.instagram.com/fedesfit/)\n",
    "* [@maguitolosa1](https://www.instagram.com/maguitolosa1/?hl=en)\n",
    "* [@fit_person](https://www.instagram.com/fit_person/?hl=en)\n",
    "* [@gentuli](https://www.instagram.com/gentuli/?hl=en)\n",
    "* [@jimenaalzogaray.\\_](https://www.instagram.com/jimenaalzogaray._/?hl=en)\n",
    "* [@jmseitun](https://www.instagram.com/jmseitun/?hl=en)\n",
    "* [@vico_frascolla](https://www.instagram.com/vico_frascolla/?hl=en)\n",
    "* [@cami.filmel](https://www.instagram.com/cami.filmel/?hl=en)\n",
    "* [@entrenamientopersonalep](https://www.instagram.com/entrenamientopersonalep/)"
   ]
  }
 ],
 "metadata": {
  "kernelspec": {
   "display_name": "Python 3",
   "language": "python",
   "name": "python3"
  },
  "language_info": {
   "codemirror_mode": {
    "name": "ipython",
    "version": 3
   },
   "file_extension": ".py",
   "mimetype": "text/x-python",
   "name": "python",
   "nbconvert_exporter": "python",
   "pygments_lexer": "ipython3",
   "version": "3.8.5"
  }
 },
 "nbformat": 4,
 "nbformat_minor": 5
}
