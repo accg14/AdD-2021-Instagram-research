{
 "cells": [
  {
   "cell_type": "code",
   "execution_count": 1,
   "id": "d9f8359d",
   "metadata": {},
   "outputs": [],
   "source": [
    "import pdb\n",
    "import csv\n",
    "import statistics\n",
    "import networkx as nx\n",
    "import numpy as np\n",
    "from IPython.display import SVG\n",
    "\n",
    "from influencers import INFLUENCERS_COMMUNITY\n",
    "\n",
    "from sknetwork.visualization import svg_digraph\n",
    "from sknetwork.utils import edgelist2adjacency\n",
    "from sknetwork.data import convert_edge_list"
   ]
  },
  {
   "cell_type": "code",
   "execution_count": 2,
   "id": "f8e2b7ef",
   "metadata": {},
   "outputs": [],
   "source": [
    "influencer_incoming_edges = []\n",
    "node_weights = []"
   ]
  },
  {
   "cell_type": "code",
   "execution_count": 3,
   "id": "e12862f3",
   "metadata": {},
   "outputs": [
    {
     "name": "stdout",
     "output_type": "stream",
     "text": [
      "[33666  3329  8407  2010  2336  2442 42300  6503 14600  5415  6185 65500]\n"
     ]
    }
   ],
   "source": [
    "for influencer in INFLUENCERS_COMMUNITY.keys():\n",
    "    followers = INFLUENCERS_COMMUNITY[influencer]['influencers_followers']\n",
    "    node_weights.append(INFLUENCERS_COMMUNITY[influencer]['total_followers'])\n",
    "    if followers:\n",
    "        influencer_incoming_edge = list(map(lambda x: (x,influencer), followers))\n",
    "        influencer_incoming_edges.extend(influencer_incoming_edge)\n",
    "node_weights = np.array(node_weights)\n",
    "print(node_weights)"
   ]
  },
  {
   "cell_type": "code",
   "execution_count": 4,
   "id": "514d309b",
   "metadata": {},
   "outputs": [],
   "source": [
    "graph = convert_edge_list(influencer_incoming_edges, directed=True)"
   ]
  },
  {
   "cell_type": "markdown",
   "id": "6894fb03",
   "metadata": {},
   "source": [
    "## Digrafo | ponderación: total seguidores"
   ]
  },
  {
   "cell_type": "code",
   "execution_count": 9,
   "id": "cce57ef5",
   "metadata": {},
   "outputs": [
    {
     "data": {
      "image/svg+xml": [
       "<svg xmlns=\"http://www.w3.org/2000/svg\" width=\"578.0\" height=\"340\">\n",
       "<defs><marker id=\"arrow\" markerWidth=\"10\" markerHeight=\"10\" refX=\"9\" refY=\"3\" orient=\"auto\">\n",
       "<path d=\"M0,0 L0,6 L9,3 z\" fill=\"gray\"/></marker></defs>\n",
       "<path stroke-width=\"1\" stroke=\"gray\" d=\"M 178 175 84 59\" marker-end=\"url(#arrow)\"/>\n",
       "<path stroke-width=\"1\" stroke=\"gray\" d=\"M 256 129 225 232\" marker-end=\"url(#arrow)\"/>\n",
       "<path stroke-width=\"1\" stroke=\"gray\" d=\"M 256 129 135 201\" marker-end=\"url(#arrow)\"/>\n",
       "<path stroke-width=\"1\" stroke=\"gray\" d=\"M 247 200 184 177\" marker-end=\"url(#arrow)\"/>\n",
       "<path stroke-width=\"1\" stroke=\"gray\" d=\"M 247 200 256 135\" marker-end=\"url(#arrow)\"/>\n",
       "<path stroke-width=\"1\" stroke=\"gray\" d=\"M 247 200 144 138\" marker-end=\"url(#arrow)\"/>\n",
       "<path stroke-width=\"1\" stroke=\"gray\" d=\"M 247 200 227 232\" marker-end=\"url(#arrow)\"/>\n",
       "<path stroke-width=\"1\" stroke=\"gray\" d=\"M 256 129 247 194\" marker-end=\"url(#arrow)\"/>\n",
       "<path stroke-width=\"1\" stroke=\"gray\" d=\"M 247 200 135 204\" marker-end=\"url(#arrow)\"/>\n",
       "<path stroke-width=\"1\" stroke=\"gray\" d=\"M 138 135 26 91\" marker-end=\"url(#arrow)\"/>\n",
       "<path stroke-width=\"1\" stroke=\"gray\" d=\"M 138 135 241 197\" marker-end=\"url(#arrow)\"/>\n",
       "<path stroke-width=\"1\" stroke=\"gray\" d=\"M 138 135 129 198\" marker-end=\"url(#arrow)\"/>\n",
       "<path stroke-width=\"1\" stroke=\"gray\" d=\"M 224 238 182 180\" marker-end=\"url(#arrow)\"/>\n",
       "<path stroke-width=\"1\" stroke=\"gray\" d=\"M 224 238 154 262\" marker-end=\"url(#arrow)\"/>\n",
       "<path stroke-width=\"1\" stroke=\"gray\" d=\"M 224 238 244 206\" marker-end=\"url(#arrow)\"/>\n",
       "<path stroke-width=\"1\" stroke=\"gray\" d=\"M 138 135 174 171\" marker-end=\"url(#arrow)\"/>\n",
       "<path stroke-width=\"1\" stroke=\"gray\" d=\"M 256 129 184 172\" marker-end=\"url(#arrow)\"/>\n",
       "<path stroke-width=\"1\" stroke=\"gray\" d=\"M 20 89 132 133\" marker-end=\"url(#arrow)\"/>\n",
       "<path stroke-width=\"1\" stroke=\"gray\" d=\"M 20 89 74 57\" marker-end=\"url(#arrow)\"/>\n",
       "<path stroke-width=\"1\" stroke=\"gray\" d=\"M 178 175 150 258\" marker-end=\"url(#arrow)\"/>\n",
       "<path stroke-width=\"1\" stroke=\"gray\" d=\"M 178 175 241 198\" marker-end=\"url(#arrow)\"/>\n",
       "<path stroke-width=\"1\" stroke=\"gray\" d=\"M 178 175 220 233\" marker-end=\"url(#arrow)\"/>\n",
       "<path stroke-width=\"1\" stroke=\"gray\" d=\"M 275 163 184 175\" marker-end=\"url(#arrow)\"/>\n",
       "<path stroke-width=\"1\" stroke=\"gray\" d=\"M 275 163 259 135\" marker-end=\"url(#arrow)\"/>\n",
       "<path stroke-width=\"1\" stroke=\"gray\" d=\"M 275 163 251 195\" marker-end=\"url(#arrow)\"/>\n",
       "<path stroke-width=\"1\" stroke=\"gray\" d=\"M 275 163 144 136\" marker-end=\"url(#arrow)\"/>\n",
       "<path stroke-width=\"1\" stroke=\"gray\" d=\"M 275 163 227 233\" marker-end=\"url(#arrow)\"/>\n",
       "<path stroke-width=\"1\" stroke=\"gray\" d=\"M 229 320 153 267\" marker-end=\"url(#arrow)\"/>\n",
       "<path stroke-width=\"1\" stroke=\"gray\" d=\"M 229 320 246 206\" marker-end=\"url(#arrow)\"/>\n",
       "<path stroke-width=\"1\" stroke=\"gray\" d=\"M 229 320 224 244\" marker-end=\"url(#arrow)\"/>\n",
       "<path stroke-width=\"1\" stroke=\"gray\" d=\"M 360 20 260 124\" marker-end=\"url(#arrow)\"/>\n",
       "<path stroke-width=\"1\" stroke=\"gray\" d=\"M 148 264 176 181\" marker-end=\"url(#arrow)\"/>\n",
       "<path stroke-width=\"1\" stroke=\"gray\" d=\"M 148 264 218 240\" marker-end=\"url(#arrow)\"/>\n",
       "<path stroke-width=\"1\" stroke=\"gray\" d=\"M 148 264 131 210\" marker-end=\"url(#arrow)\"/>\n",
       "<path stroke-width=\"1\" stroke=\"gray\" d=\"M 129 204 146 258\" marker-end=\"url(#arrow)\"/>\n",
       "<path stroke-width=\"1\" stroke=\"gray\" d=\"M 420 252 253 202\" marker-end=\"url(#arrow)\"/>\n",
       "<circle cx=\"178\" cy=\"175\" r=\"7.0\" style=\"fill:gray;stroke:black;stroke-width:1.0\"/>\n",
       "<circle cx=\"80\" cy=\"54\" r=\"7.0\" style=\"fill:gray;stroke:black;stroke-width:1.0\"/>\n",
       "<circle cx=\"275\" cy=\"163\" r=\"7.0\" style=\"fill:gray;stroke:black;stroke-width:1.0\"/>\n",
       "<circle cx=\"229\" cy=\"320\" r=\"7.0\" style=\"fill:gray;stroke:black;stroke-width:1.0\"/>\n",
       "<circle cx=\"360\" cy=\"20\" r=\"7.0\" style=\"fill:gray;stroke:black;stroke-width:1.0\"/>\n",
       "<circle cx=\"148\" cy=\"264\" r=\"7.0\" style=\"fill:gray;stroke:black;stroke-width:1.0\"/>\n",
       "<circle cx=\"20\" cy=\"89\" r=\"7.0\" style=\"fill:gray;stroke:black;stroke-width:1.0\"/>\n",
       "<circle cx=\"256\" cy=\"129\" r=\"7.0\" style=\"fill:gray;stroke:black;stroke-width:1.0\"/>\n",
       "<circle cx=\"247\" cy=\"200\" r=\"7.0\" style=\"fill:gray;stroke:black;stroke-width:1.0\"/>\n",
       "<circle cx=\"138\" cy=\"135\" r=\"7.0\" style=\"fill:gray;stroke:black;stroke-width:1.0\"/>\n",
       "<circle cx=\"224\" cy=\"238\" r=\"7.0\" style=\"fill:gray;stroke:black;stroke-width:1.0\"/>\n",
       "<circle cx=\"129\" cy=\"204\" r=\"7.0\" style=\"fill:gray;stroke:black;stroke-width:1.0\"/>\n",
       "<circle cx=\"420\" cy=\"252\" r=\"7.0\" style=\"fill:gray;stroke:black;stroke-width:1.0\"/>\n",
       "<text x=\"195\" y=\"182\" font-size=\"12\">cami.filmel</text><text x=\"97\" y=\"61\" font-size=\"12\">entrenamiento_trouville</text><text x=\"292\" y=\"170\" font-size=\"12\">entrenamientopersonalep</text><text x=\"246\" y=\"327\" font-size=\"12\">fedesfit</text><text x=\"377\" y=\"27\" font-size=\"12\">fit_person</text><text x=\"165\" y=\"271\" font-size=\"12\">gentuli</text><text x=\"37\" y=\"96\" font-size=\"12\">ivi_quirog</text><text x=\"273\" y=\"136\" font-size=\"12\">jimenaalzogaray._</text><text x=\"264\" y=\"207\" font-size=\"12\">jmseitun</text><text x=\"155\" y=\"142\" font-size=\"12\">maguitolosa1</text><text x=\"241\" y=\"245\" font-size=\"12\">santicomba</text><text x=\"146\" y=\"211\" font-size=\"12\">vico_frascolla</text><text x=\"437\" y=\"259\" font-size=\"12\">vicofrascolla</text></svg>"
      ],
      "text/plain": [
       "<IPython.core.display.SVG object>"
      ]
     },
     "execution_count": 9,
     "metadata": {},
     "output_type": "execute_result"
    }
   ],
   "source": [
    "#image = svg_digraph(graph.adjacency,names = graph.names, display_node_weight = True, node_weights = node_weights)\n",
    "image = svg_digraph(graph.adjacency,names = graph.names)\n",
    "SVG(image)"
   ]
  },
  {
   "cell_type": "code",
   "execution_count": null,
   "id": "d2bcf190",
   "metadata": {},
   "outputs": [],
   "source": []
  }
 ],
 "metadata": {
  "kernelspec": {
   "display_name": "Python 3",
   "language": "python",
   "name": "python3"
  },
  "language_info": {
   "codemirror_mode": {
    "name": "ipython",
    "version": 3
   },
   "file_extension": ".py",
   "mimetype": "text/x-python",
   "name": "python",
   "nbconvert_exporter": "python",
   "pygments_lexer": "ipython3",
   "version": "3.8.5"
  }
 },
 "nbformat": 4,
 "nbformat_minor": 5
}
