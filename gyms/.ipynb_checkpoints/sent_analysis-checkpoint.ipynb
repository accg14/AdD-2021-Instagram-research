{
 "cells": [
  {
   "cell_type": "markdown",
   "id": "f0cbffab",
   "metadata": {},
   "source": [
    "# Introducción"
   ]
  },
  {
   "cell_type": "markdown",
   "id": "2ce8f5ea",
   "metadata": {},
   "source": [
    "Librerías"
   ]
  },
  {
   "cell_type": "code",
   "execution_count": 1,
   "id": "28053f50",
   "metadata": {},
   "outputs": [],
   "source": [
    "import statistics\n",
    "import spacy\n",
    "import nltk\n",
    "import json\n",
    "import pdb\n",
    "import re\n",
    "\n",
    "from nltk.corpus import stopwords\n",
    "from senticnet.babelsenticnet import BabelSenticNet\n",
    "from gyms import GYMS"
   ]
  },
  {
   "cell_type": "markdown",
   "id": "d73165da",
   "metadata": {},
   "source": [
    "Utilidades"
   ]
  },
  {
   "cell_type": "code",
   "execution_count": 2,
   "id": "458d97de",
   "metadata": {},
   "outputs": [],
   "source": [
    "UNWANTED_CHARS = ['!', ',', '\"', '-', '...','–','XD', 'xD', '¿', '?', '—', '\\n', \"#\", '¡', ':', \"“\", '.', '(', ')',\"¬¬\", \"\\('.')/\", \"*\", '\\n', '»', '\\x97', '\\x85']\n",
    "SPANISH_STOP_WORDS = stopwords.words('spanish')\n",
    "\n",
    "file = '/home/accg14/Documents/FIng/Taller ARS/Entrega/AdD-2021-Instagram-research/gyms/sources/crossfitdelsur/crossfitdelsur.json'\n"
   ]
  },
  {
   "cell_type": "markdown",
   "id": "20d0c8a2",
   "metadata": {},
   "source": [
    "# Preprocesamiento\n",
    "En esta etapa, se recuperan los comentarios y cantidad de _likes_ de las publicaciones de las instituciones (gimnasios).\n"
   ]
  },
  {
   "cell_type": "markdown",
   "id": "9705b9aa",
   "metadata": {},
   "source": [
    "## Extracción desde las fuentes 🗄\n",
    "La extracción de los metadatos (comentarios, cantidad de _likes_, _timpestamps_ entre otros) de los _posts_ se obtiene mediante el repositorio [instagram-scraper](https://github.com/arc298/instagram-scraper).\n",
    "Para el actual estudio, se recuperan 30 _posts_ (los más actualizados) de cada gimnasio."
   ]
  },
  {
   "cell_type": "markdown",
   "id": "c409f87c",
   "metadata": {},
   "source": [
    "Extracción de los comentarios."
   ]
  },
  {
   "cell_type": "code",
   "execution_count": 3,
   "id": "9cbef34b",
   "metadata": {},
   "outputs": [],
   "source": [
    "def get_posts_comments(file):\n",
    "    with open(file) as json_file:\n",
    "        institute_posts = json.load(json_file)\n",
    "        for posts in institute_posts['GraphImages']:\n",
    "            comments_data = posts['comments']\n",
    "            for comment_data in comments_data['data']:\n",
    "                yield(comment_data['text'])"
   ]
  },
  {
   "cell_type": "markdown",
   "id": "edaeb92e",
   "metadata": {},
   "source": [
    "Extracción de número de _likes_"
   ]
  },
  {
   "cell_type": "code",
   "execution_count": 4,
   "id": "b37be5e2",
   "metadata": {},
   "outputs": [],
   "source": [
    "def get_posts_likes(file):\n",
    "    with open(file) as json_file:\n",
    "        institute_posts = json.load(json_file)\n",
    "        for posts in institute_posts['GraphImages']:\n",
    "            likes_received = posts['edge_media_preview_like']['count']\n",
    "            yield(likes_received)"
   ]
  },
  {
   "cell_type": "code",
   "execution_count": 5,
   "id": "52dd1d0b",
   "metadata": {},
   "outputs": [],
   "source": [
    "def get_posts_metadata(file):\n",
    "    posts_comments = []\n",
    "    for post_comment in get_posts_comments(file):\n",
    "        posts_comments.append(post_comment)\n",
    "    \n",
    "    posts_likes = []\n",
    "    for post_like in get_posts_likes(file):\n",
    "        posts_likes.append(post_like)\n",
    "    \n",
    "    return posts_comments, posts_likes"
   ]
  },
  {
   "cell_type": "code",
   "execution_count": 6,
   "id": "fc098497",
   "metadata": {},
   "outputs": [],
   "source": [
    "for gym in GYMS.keys():\n",
    "    gym_file_path = GYMS[gym]['file_path']\n",
    "    posts_comments, posts_likes = get_posts_metadata(gym_file_path)\n",
    "    \n",
    "    GYMS[gym]['posts_comments'] = posts_comments\n",
    "    GYMS[gym]['posts_likes'] = posts_likes"
   ]
  },
  {
   "cell_type": "markdown",
   "id": "4a24a1e4",
   "metadata": {},
   "source": [
    "## Curación de los datos 🧹️\n",
    "En esta etapa, se remueven caracteres que generan inputs de baja calidad, incluyendo: emojis, caracteres no ascii, signos de exclamación y de interrogación entre otros (todos aquellos no alfabeticos)."
   ]
  },
  {
   "cell_type": "code",
   "execution_count": 7,
   "id": "dfcaf15f",
   "metadata": {},
   "outputs": [],
   "source": [
    "def remove_unwanted_chars(token):\n",
    "    for char in UNWANTED_CHARS:\n",
    "        token = token.replace(char, ' ')\n",
    "        token = re.sub('@\\w*', '', token)\n",
    "        token = re.sub('\\$', ' ', token)\n",
    "        token = re.sub('\\d', '', token)\n",
    "        \n",
    "        return token"
   ]
  },
  {
   "cell_type": "code",
   "execution_count": 8,
   "id": "88d577cb",
   "metadata": {},
   "outputs": [],
   "source": [
    "def remove_emoji(token):\n",
    "    emoji_pattern = re.compile(\"[\"\n",
    "                            u\"\\U0001F600-\\U0001F64F\"  # emoticons\n",
    "                            u\"\\U0001F300-\\U0001F5FF\"  # symbols & pictographs\n",
    "                            u\"\\U0001F680-\\U0001F6FF\"  # transport & map symbols\n",
    "                            u\"\\U0001F1E0-\\U0001F1FF\"  # flags (iOS)\n",
    "                            u\"\\U00002702-\\U000027B0\"\n",
    "                            u\"\\U000024C2-\\U0001F251\"\n",
    "                            \"]+\", flags=re.UNICODE)\n",
    "    return emoji_pattern.sub(r'', token)"
   ]
  },
  {
   "cell_type": "code",
   "execution_count": 9,
   "id": "0359e12b",
   "metadata": {},
   "outputs": [],
   "source": [
    "def remove_non_ascii(token):\n",
    "    try:\n",
    "        _ = token.encode('ascii')\n",
    "        return token\n",
    "    except:\n",
    "        return None"
   ]
  },
  {
   "cell_type": "code",
   "execution_count": 10,
   "id": "c77c8210",
   "metadata": {},
   "outputs": [],
   "source": [
    "def remove_spanish_stop_words(token):\n",
    "    if (token in stopwords.words('spanish')):\n",
    "        return None\n",
    "    else:\n",
    "        return token"
   ]
  },
  {
   "cell_type": "code",
   "execution_count": 11,
   "id": "fb837c49",
   "metadata": {},
   "outputs": [],
   "source": [
    "def sanitize_comment(comment):\n",
    "    comment = comment.split(\" \")\n",
    "\n",
    "    comment = list(map(remove_emoji, comment))\n",
    "    comment = list(map(remove_unwanted_chars, comment))\n",
    "\n",
    "    comment = list(filter(lambda x: len(x)>0, comment))\n",
    "    comment = list(map(remove_spanish_stop_words, comment))\n",
    "    comment = list(filter(lambda x: x is not None, comment))\n",
    "    comment = list(map(remove_non_ascii, comment))\n",
    "    comment = list(filter(lambda x: x is not None, comment))\n",
    "    comment = list(map(lambda x: x.lower(), comment))\n",
    "    comment = list(map(remove_unwanted_chars, comment))\n",
    "    comment = list(map(lambda x: x.replace(\" \", \"\"), comment))\n",
    "    return comment"
   ]
  },
  {
   "cell_type": "code",
   "execution_count": 12,
   "id": "4cd44af4",
   "metadata": {},
   "outputs": [],
   "source": [
    "def get_sanitized_posts_comments(comments):\n",
    "    sanitized_comments = []\n",
    "    for comment in comments:\n",
    "        sanitized_comment = sanitize_comment(comment)\n",
    "        if len(sanitized_comment)>0:\n",
    "            sanitized_comments.append(sanitized_comment)  \n",
    "    return sanitized_comments"
   ]
  },
  {
   "cell_type": "code",
   "execution_count": 13,
   "id": "7f93b644",
   "metadata": {},
   "outputs": [],
   "source": [
    "for gym in GYMS.keys():\n",
    "    gym_posts_comments = GYMS[gym]['posts_comments']\n",
    "    gym_sanitizez_posts_comments = get_sanitized_posts_comments(gym_posts_comments)    \n",
    "    GYMS[gym]['posts_comments'] = gym_sanitizez_posts_comments"
   ]
  },
  {
   "cell_type": "markdown",
   "id": "023719be",
   "metadata": {},
   "source": [
    "# Obtención de la polaridad 😠😄\n",
    "En esta etapa se obtiene el sentimiento relacionado a cada palabra (positivo | neutro | negativo) del comentario de la siguiente forma:\n",
    "1. Si la palabra aparece en el conjunto, se recuperan su etiqueta y valor de polaridad.\n",
    "2. Si la palabra no aparece en el conjunto, se obtiene (cuando existe) el lema de la misma y se retornan etiqueta y valor de polaridad del lema (si existe).\n",
    "3. Cuando ninguna de las anteriores condiciones se cumple, se suprime la palabra del comentario.\n",
    "\n",
    "Luego, la etiqueta de polarización de cada comentario es la instancia con más de repeticiones de las etiquetas de las palabras que lo componen. De igual forma, el valor asociado a dicha polarización es la media de sus palabras.\n",
    "\n",
    "Al mismo tiempo, se obtiene la media de cantidad de _likes_ como un insumo de información extra.\n",
    "\n",
    "**Observación**: el estudio del español a nivel computacional no ha llegado al estadio del ingles, por lo que no todas las palabras tienen un lema asociado, y expresiones típicas de ciertos lugares (en este contexto UY, quedan por fuera del alcance)."
   ]
  },
  {
   "cell_type": "code",
   "execution_count": 14,
   "id": "164b253c",
   "metadata": {},
   "outputs": [],
   "source": [
    "nlp = spacy.load('es_core_news_sm')"
   ]
  },
  {
   "cell_type": "code",
   "execution_count": 15,
   "id": "8e9c9ba7",
   "metadata": {},
   "outputs": [],
   "source": [
    "def lemmatize(token):\n",
    "    token = nlp(token)\n",
    "    token_lemma = [t.lemma_ for t in token]\n",
    "    if len(token_lemma)>0:\n",
    "        return token_lemma[0]\n",
    "    else:\n",
    "        return [token]"
   ]
  },
  {
   "cell_type": "code",
   "execution_count": 16,
   "id": "f67d10b3",
   "metadata": {},
   "outputs": [],
   "source": [
    "def classify_token_polarity(token, token_lemma):\n",
    "    bsn = BabelSenticNet('es')\n",
    "    try:\n",
    "        polarity_label = bsn.polarity_label(token)\n",
    "        polarity_value = bsn.polarity_value(token)\n",
    "        return polarity_label, polarity_value\n",
    "    except:\n",
    "        try:\n",
    "            polarity_label = bsn.polarity_label(token_lemma)\n",
    "            polarity_value = bsn.polarity_value(token_lemma)\n",
    "            return polarity_label, polarity_value\n",
    "        except:        \n",
    "            return 'neutral', 0"
   ]
  },
  {
   "cell_type": "code",
   "execution_count": 17,
   "id": "00b6f526",
   "metadata": {},
   "outputs": [],
   "source": [
    "def classify_token(token):\n",
    "    token_lemma = lemmatize(token)\n",
    "    token_polarity_label, token_polarity_value = classify_token_polarity(token, token_lemma)\n",
    "    return token_polarity_label, token_polarity_value"
   ]
  },
  {
   "cell_type": "code",
   "execution_count": 18,
   "id": "f781d5a2",
   "metadata": {},
   "outputs": [],
   "source": [
    "def classify_polarities(comment_polarity_labels, comment_polarity_values):\n",
    "    polarity_label = max(set(comment_polarity_labels), key = comment_polarity_labels.count)\n",
    "    polarity_value = statistics.mean(comment_polarity_values)\n",
    "    if len(comment_polarity_values)>1:\n",
    "        polarity_variance = statistics.variance(comment_polarity_values)\n",
    "    else:\n",
    "        polarity_variance = 0\n",
    "    return polarity_label, polarity_value, polarity_variance"
   ]
  },
  {
   "cell_type": "code",
   "execution_count": 19,
   "id": "7e2df300",
   "metadata": {},
   "outputs": [],
   "source": [
    "def get_metrics(comments_polarities):\n",
    "    comments_polarity_labels = []\n",
    "    comments_polarity_values = []\n",
    "    comments_polarity_variances = []\n",
    "    \n",
    "    for comment_polarity in comments_polarities:\n",
    "        comment_polarity_labels = comment_polarity[0]\n",
    "        comment_polarity_values = comment_polarity[1]\n",
    "        polarity_label, polarity_value, polarity_variance = classify_polarities(comment_polarity_labels, comment_polarity_values)\n",
    "        \n",
    "        comments_polarity_labels.append(polarity_label)\n",
    "        comments_polarity_values.append(polarity_value)\n",
    "        comments_polarity_variances.append(polarity_variance)\n",
    "\n",
    "    individual_mean_variance = statistics.variance(comments_polarity_variances)\n",
    "    comments_polarity, comments_value, comments_variance = classify_polarities(comments_polarity_labels, comments_polarity_values)\n",
    "\n",
    "    return comments_polarity, comments_value, comments_variance, individual_mean_variance"
   ]
  },
  {
   "cell_type": "code",
   "execution_count": 20,
   "id": "cb05e049",
   "metadata": {},
   "outputs": [],
   "source": [
    "def classify_comments(comments):\n",
    "    comments_polarity_labels = []\n",
    "    comments_polarity_values = []\n",
    "\n",
    "    for comment in comments:\n",
    "        comment_polarity_labels = []\n",
    "        comment_polarity_values = []\n",
    "        for token in comment:\n",
    "            token_polarity_label, token_polarity_value = classify_token(token)\n",
    "            comment_polarity_labels.append(token_polarity_label)\n",
    "            comment_polarity_values.append(token_polarity_value)\n",
    "\n",
    "        comments_polarity_labels.append(comment_polarity_labels)\n",
    "        comments_polarity_values.append(comment_polarity_values)\n",
    "\n",
    "    comments_polarities = list(zip(comments_polarity_labels, comments_polarity_values))\n",
    "    comments_polarity, comments_value, comments_variance, individual_mean_variance = get_metrics(comments_polarities)\n",
    "\n",
    "    return comments_polarity, comments_value, comments_variance, individual_mean_variance"
   ]
  },
  {
   "cell_type": "code",
   "execution_count": 21,
   "id": "88f72f24",
   "metadata": {},
   "outputs": [],
   "source": [
    "for gym in GYMS.keys():\n",
    "    gym_posts_comments = GYMS[gym]['posts_comments']\n",
    "    comments_polarity, comments_value, comments_variance, individual_mean_variance = classify_comments(gym_posts_comments)\n",
    "    gym_mean_posts_likes = statistics.mean(GYMS[gym]['posts_likes'])\n",
    "\n",
    "    GYMS[gym]['gym_sentiments'] = {\n",
    "        'comments_polarity': comments_polarity,\n",
    "        'comments_value': str(comments_value),\n",
    "        'comments_variance': str(comments_variance),\n",
    "        'individual_mean_variance': str(individual_mean_variance),\n",
    "        'mean_posts_likes': str(gym_mean_posts_likes)\n",
    "    }"
   ]
  },
  {
   "cell_type": "code",
   "execution_count": 22,
   "id": "76020dc3",
   "metadata": {},
   "outputs": [
    {
     "name": "stdout",
     "output_type": "stream",
     "text": [
      "\u001b[1mClasificación final de los sentimientos asociados a los gimnasios: \u001b[0m\n",
      "     GYM: \u001b[1macptrainingcenter\u001b[0m\n",
      "          Etiqueta: \u001b[1mpositive\u001b[0m\n",
      "          Valor: \u001b[1m0.14256150793650793\u001b[0m\n",
      "          Varianza total: \u001b[1m0.03936698501812341\u001b[0m\n",
      "          Varianza media: \u001b[1m0.04719250910449502\u001b[0m\n",
      "          Likes media: \u001b[1m35.8\u001b[0m\n",
      "-----------------------------------------------\n",
      "     GYM: \u001b[1mavenidacrossfit\u001b[0m\n",
      "          Etiqueta: \u001b[1mpositive\u001b[0m\n",
      "          Valor: \u001b[1m0.04432234498543487\u001b[0m\n",
      "          Varianza total: \u001b[1m0.03612181207513422\u001b[0m\n",
      "          Varianza media: \u001b[1m0.043584599147544784\u001b[0m\n",
      "          Likes media: \u001b[1m93.46666666666667\u001b[0m\n",
      "-----------------------------------------------\n",
      "     GYM: \u001b[1mcrossfitdelsur\u001b[0m\n",
      "          Etiqueta: \u001b[1mpositive\u001b[0m\n",
      "          Valor: \u001b[1m0.09269698412698413\u001b[0m\n",
      "          Varianza total: \u001b[1m0.05404152206400625\u001b[0m\n",
      "          Varianza media: \u001b[1m0.016636835910456636\u001b[0m\n",
      "          Likes media: \u001b[1m86.76666666666667\u001b[0m\n",
      "-----------------------------------------------\n",
      "     GYM: \u001b[1minstintocf\u001b[0m\n",
      "          Etiqueta: \u001b[1mneutral\u001b[0m\n",
      "          Valor: \u001b[1m0.10430037518037519\u001b[0m\n",
      "          Varianza total: \u001b[1m0.032398091758939714\u001b[0m\n",
      "          Varianza media: \u001b[1m0.013132357699114066\u001b[0m\n",
      "          Likes media: \u001b[1m48.8\u001b[0m\n",
      "-----------------------------------------------\n",
      "     GYM: \u001b[1mmontevideoknockout\u001b[0m\n",
      "          Etiqueta: \u001b[1mneutral\u001b[0m\n",
      "          Valor: \u001b[1m0.01390652170130894\u001b[0m\n",
      "          Varianza total: \u001b[1m0.020228949322210442\u001b[0m\n",
      "          Varianza media: \u001b[1m0.009562020522648915\u001b[0m\n",
      "          Likes media: \u001b[1m63.8\u001b[0m\n",
      "-----------------------------------------------\n",
      "     GYM: \u001b[1mmvdrustybox\u001b[0m\n",
      "          Etiqueta: \u001b[1mpositive\u001b[0m\n",
      "          Valor: \u001b[1m0.12631944444444443\u001b[0m\n",
      "          Varianza total: \u001b[1m0.050151564746732026\u001b[0m\n",
      "          Varianza media: \u001b[1m0.006449392125221725\u001b[0m\n",
      "          Likes media: \u001b[1m34.13333333333333\u001b[0m\n",
      "-----------------------------------------------\n",
      "     GYM: \u001b[1msensefit\u001b[0m\n",
      "          Etiqueta: \u001b[1mneutral\u001b[0m\n",
      "          Valor: \u001b[1m0.07704048124044066\u001b[0m\n",
      "          Varianza total: \u001b[1m0.040596225493602034\u001b[0m\n",
      "          Varianza media: \u001b[1m0.008899979511209223\u001b[0m\n",
      "          Likes media: \u001b[1m293.96666666666664\u001b[0m\n",
      "-----------------------------------------------\n",
      "     GYM: \u001b[1mtekoacrossfit\u001b[0m\n",
      "          Etiqueta: \u001b[1mneutral\u001b[0m\n",
      "          Valor: \u001b[1m0.011353268857092386\u001b[0m\n",
      "          Varianza total: \u001b[1m0.028302585594868573\u001b[0m\n",
      "          Varianza media: \u001b[1m0.014978246341655505\u001b[0m\n",
      "          Likes media: \u001b[1m64.36666666666666\u001b[0m\n",
      "-----------------------------------------------\n"
     ]
    }
   ],
   "source": [
    "print(\"\\033[1m\"+\"Clasificación final de los sentimientos asociados a los gimnasios: \"+\"\\033[0m\")\n",
    "for gym in GYMS.keys():\n",
    "    gym_sentiments = GYMS[gym]['gym_sentiments']\n",
    "    print(\"     GYM: \"+\"\\033[1m\"+gym+\"\\033[0m\")\n",
    "    print(\"          Etiqueta: \"+\"\\033[1m\"+gym_sentiments['comments_polarity']+\"\\033[0m\")\n",
    "    print(\"          Valor: \"+\"\\033[1m\"+gym_sentiments['comments_value']+\"\\033[0m\")\n",
    "    print(\"          Varianza total: \"+\"\\033[1m\"+gym_sentiments['comments_variance']+\"\\033[0m\")\n",
    "    print(\"          Varianza media: \"+\"\\033[1m\"+gym_sentiments['individual_mean_variance']+\"\\033[0m\")\n",
    "    print(\"          Likes media: \"+\"\\033[1m\"+gym_sentiments['mean_posts_likes']+\"\\033[0m\")\n",
    "    print(\"-----------------------------------------------\")\n",
    "    "
   ]
  },
  {
   "cell_type": "markdown",
   "id": "802ae6b4",
   "metadata": {},
   "source": [
    "# Conclusión 🤝"
   ]
  },
  {
   "cell_type": "markdown",
   "id": "e931aa4f",
   "metadata": {},
   "source": [
    "# Trabajo futuro 📓"
   ]
  },
  {
   "cell_type": "markdown",
   "id": "c999b736",
   "metadata": {},
   "source": [
    "# Perfiles estudiados 📱"
   ]
  },
  {
   "cell_type": "markdown",
   "id": "b32c14bd",
   "metadata": {},
   "source": [
    "* [@acptrainingcenter](https://www.instagram.com/acptrainingcenter/)\n",
    "* [@avenidacrossfit](https://www.instagram.com/avenidacrossfit/)\n",
    "* [@crossfitdelsur](https://www.instagram.com/crossfitdelsur/)\n",
    "* [@instintocf](https://www.instagram.com/instintocf/)\n",
    "* [@montevideoknockout](https://www.instagram.com/montevideoknockout/)\n",
    "* [@mvdrustybox](https://www.instagram.com/mvdrustybox/)\n",
    "* [@sensefit](https://www.instagram.com/sensefit/)\n",
    "* [@tekoacrossfit](https://www.instagram.com/tekoacrossfit/)"
   ]
  },
  {
   "cell_type": "code",
   "execution_count": null,
   "id": "6ff67982",
   "metadata": {},
   "outputs": [],
   "source": []
  }
 ],
 "metadata": {
  "kernelspec": {
   "display_name": "Python 3",
   "language": "python",
   "name": "python3"
  },
  "language_info": {
   "codemirror_mode": {
    "name": "ipython",
    "version": 3
   },
   "file_extension": ".py",
   "mimetype": "text/x-python",
   "name": "python",
   "nbconvert_exporter": "python",
   "pygments_lexer": "ipython3",
   "version": "3.8.5"
  }
 },
 "nbformat": 4,
 "nbformat_minor": 5
}
