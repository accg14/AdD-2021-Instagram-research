{
 "cells": [
  {
   "cell_type": "code",
   "execution_count": 1,
   "id": "d9f8359d",
   "metadata": {},
   "outputs": [],
   "source": [
    "import pdb\n",
    "import csv\n",
    "import statistics\n",
    "import networkx as nx\n",
    "import numpy as np\n",
    "from IPython.display import SVG\n",
    "\n",
    "from sknetwork.visualization import svg_digraph\n",
    "from sknetwork.utils import edgelist2adjacency\n",
    "from sknetwork.data import convert_edge_list"
   ]
  },
  {
   "cell_type": "code",
   "execution_count": 2,
   "id": "65f14827",
   "metadata": {},
   "outputs": [],
   "source": [
    "network_main_actors = ['santi_comba','gentuli', 'jimenaalzogaray._', 'gabihernandezuy', 'maguitolosa1', 'jmseitun', 'vico_frascolla', 'cami.filmel']\n",
    "file = '/home/accg14/Downloads/santicomba.csv'\n",
    "\n",
    "santi_comba_regular_followers = []\n",
    "santi_comba_influencers_followers = []"
   ]
  },
  {
   "cell_type": "code",
   "execution_count": 3,
   "id": "9ff7b652",
   "metadata": {},
   "outputs": [],
   "source": [
    "def get_followers(influencer_file):\n",
    "    with open(influencer_file, 'r') as influencer_retrieved_data:\n",
    "        reader = csv.reader(influencer_retrieved_data)\n",
    "        for follower_data in reader:\n",
    "            yield (follower_data[1],follower_data[6])"
   ]
  },
  {
   "cell_type": "code",
   "execution_count": 4,
   "id": "0878244d",
   "metadata": {},
   "outputs": [],
   "source": [
    "for follower in get_followers(file):\n",
    "    if follower[0] == 'username':\n",
    "        pass\n",
    "    elif follower[0] in network_main_actors:\n",
    "        santi_comba_influencers_followers.append(follower)\n",
    "    else:\n",
    "        santi_comba_regular_followers.append(follower)"
   ]
  },
  {
   "cell_type": "code",
   "execution_count": 5,
   "id": "2c8ea374",
   "metadata": {},
   "outputs": [],
   "source": [
    "##TEMPORAL PARA PRUEBAS\n",
    "santi_comba_influencers_followers = ['gabihernandezuy', 'maguitolosa1', 'jmseitun']"
   ]
  },
  {
   "cell_type": "code",
   "execution_count": 6,
   "id": "514d309b",
   "metadata": {},
   "outputs": [],
   "source": [
    "def generateGraphEdges(influencer=None, followers=None):\n",
    "    return(list(map(lambda x: (x,influencer), followers)))\n",
    "\n",
    "graph_edges = generateGraphEdges('santi_comba',santi_comba_influencers_followers)\n",
    "graph = convert_edge_list(graph_edges, directed=True)"
   ]
  },
  {
   "cell_type": "markdown",
   "id": "6894fb03",
   "metadata": {},
   "source": [
    "## Digrafo | ponderación: total seguidores"
   ]
  },
  {
   "cell_type": "code",
   "execution_count": 7,
   "id": "cce57ef5",
   "metadata": {},
   "outputs": [
    {
     "data": {
      "image/svg+xml": [
       "<svg xmlns=\"http://www.w3.org/2000/svg\" width=\"530.0\" height=\"340\">\n",
       "<defs><marker id=\"arrow\" markerWidth=\"10\" markerHeight=\"10\" refX=\"9\" refY=\"3\" orient=\"auto\">\n",
       "<path d=\"M0,0 L0,6 L9,3 z\" fill=\"gray\"/></marker></defs>\n",
       "<path stroke-width=\"1\" stroke=\"gray\" d=\"M 137 320 184 162\" marker-end=\"url(#arrow)\"/>\n",
       "<path stroke-width=\"1\" stroke=\"gray\" d=\"M 420 93 208 139\" marker-end=\"url(#arrow)\"/>\n",
       "<path stroke-width=\"1\" stroke=\"gray\" d=\"M 20 20 173 132\" marker-end=\"url(#arrow)\"/>\n",
       "<circle cx=\"137\" cy=\"320\" r=\"1.085972850678733\" style=\"fill:gray;stroke:black;stroke-width:1.0\"/>\n",
       "<circle cx=\"420\" cy=\"93\" r=\"1.1719457013574661\" style=\"fill:gray;stroke:black;stroke-width:1.0\"/>\n",
       "<circle cx=\"20\" cy=\"20\" r=\"1.257918552036199\" style=\"fill:gray;stroke:black;stroke-width:1.0\"/>\n",
       "<circle cx=\"189\" cy=\"143\" r=\"20.0\" style=\"fill:gray;stroke:black;stroke-width:1.0\"/>\n",
       "<text x=\"148\" y=\"321\" font-size=\"12\">gabihernandezuy</text><text x=\"431\" y=\"94\" font-size=\"12\">jmseitun</text><text x=\"31\" y=\"21\" font-size=\"12\">maguitolosa1</text><text x=\"219\" y=\"163\" font-size=\"12\">santi_comba</text></svg>"
      ],
      "text/plain": [
       "<IPython.core.display.SVG object>"
      ]
     },
     "execution_count": 7,
     "metadata": {},
     "output_type": "execute_result"
    }
   ],
   "source": [
    "total_followers = len(santi_comba_regular_followers) + len(santi_comba_influencers_followers) \n",
    "node_weights = np.array([1,2,3,total_followers])\n",
    "#pdb.set_trace()\n",
    "image = svg_digraph(graph.adjacency,names =graph.names, display_node_weight=True, node_weights=node_weights)\n",
    "SVG(image)"
   ]
  },
  {
   "cell_type": "markdown",
   "id": "1bda75f3",
   "metadata": {},
   "source": [
    "## Digrafo | ponderación: seguidores influencers"
   ]
  },
  {
   "cell_type": "code",
   "execution_count": 8,
   "id": "073acb7e",
   "metadata": {},
   "outputs": [
    {
     "data": {
      "image/svg+xml": [
       "<svg xmlns=\"http://www.w3.org/2000/svg\" width=\"530.0\" height=\"340\">\n",
       "<defs><marker id=\"arrow\" markerWidth=\"10\" markerHeight=\"10\" refX=\"9\" refY=\"3\" orient=\"auto\">\n",
       "<path d=\"M0,0 L0,6 L9,3 z\" fill=\"gray\"/></marker></defs>\n",
       "<path stroke-width=\"1\" stroke=\"gray\" d=\"M 379 20 281 161\" marker-end=\"url(#arrow)\"/>\n",
       "<path stroke-width=\"1\" stroke=\"gray\" d=\"M 420 320 284 190\" marker-end=\"url(#arrow)\"/>\n",
       "<path stroke-width=\"1\" stroke=\"gray\" d=\"M 20 196 251 178\" marker-end=\"url(#arrow)\"/>\n",
       "<circle cx=\"379\" cy=\"20\" r=\"1.085972850678733\" style=\"fill:gray;stroke:black;stroke-width:1.0\"/>\n",
       "<circle cx=\"420\" cy=\"320\" r=\"1.1719457013574661\" style=\"fill:gray;stroke:black;stroke-width:1.0\"/>\n",
       "<circle cx=\"20\" cy=\"196\" r=\"1.257918552036199\" style=\"fill:gray;stroke:black;stroke-width:1.0\"/>\n",
       "<circle cx=\"270\" cy=\"177\" r=\"20.0\" style=\"fill:gray;stroke:black;stroke-width:1.0\"/>\n",
       "<text x=\"390\" y=\"21\" font-size=\"12\">gabihernandezuy</text><text x=\"431\" y=\"321\" font-size=\"12\">jmseitun</text><text x=\"31\" y=\"197\" font-size=\"12\">maguitolosa1</text><text x=\"300\" y=\"197\" font-size=\"12\">santi_comba</text></svg>"
      ],
      "text/plain": [
       "<IPython.core.display.SVG object>"
      ]
     },
     "execution_count": 8,
     "metadata": {},
     "output_type": "execute_result"
    }
   ],
   "source": [
    "influencers_followers = len(santi_comba_regular_followers) + len(santi_comba_influencers_followers) \n",
    "node_weighted_by_tota = np.array([1,2,3,influencers_followers])\n",
    "image = svg_digraph(graph.adjacency,names =graph.names, display_node_weight=True, node_weights=node_weights)\n",
    "SVG(image)"
   ]
  },
  {
   "cell_type": "markdown",
   "id": "88da6bfa",
   "metadata": {},
   "source": [
    "## Digrafo | ponderación: media seguidores de seguidores ordinarios"
   ]
  },
  {
   "cell_type": "code",
   "execution_count": 15,
   "id": "ece97d2a",
   "metadata": {},
   "outputs": [],
   "source": [
    "def get_median_followers_of_own_followers(followers):\n",
    "    followers_of_followers = list(map(lambda x: int(x[1]),followers))\n",
    "    print(followers_of_followers)\n",
    "    return statistics.median(followers_of_followers)"
   ]
  },
  {
   "cell_type": "code",
   "execution_count": 20,
   "id": "84e03c98",
   "metadata": {},
   "outputs": [
    {
     "name": "stdout",
     "output_type": "stream",
     "text": [
      "[3514, 4371, 2186, 2321, 760, 587, 70, 16, 707, 10936, 4466, 437, 73, 80, 1852, 1677, 250, 628, 496, 1453, 460, 334, 598, 5397, 1671, 354, 3690, 51, 496, 4101, 219, 379, 466, 1266, 6, 63, 1653, 1138614, 189, 1781, 147, 706, 1062, 5282, 792, 804, 2355, 6881, 593, 973, 1079, 400, 881, 39, 39, 696, 183, 205, 39, 67, 2649, 160, 54, 498, 588, 668, 985, 1832, 3432, 73, 700, 15, 379, 286, 176, 311, 361, 7882, 334, 1178, 11, 91, 1372, 1096, 13811, 1060, 9042, 1, 741, 1230, 4032, 197, 628, 30, 1102, 555, 465, 8874, 479, 189, 353, 130, 18, 5189, 1323, 6787, 1218, 45, 298, 156, 659, 328, 10125, 503, 5945, 242, 472, 285, 477, 503, 2708, 812, 766, 103, 95, 1173, 1000, 475, 784, 61, 215, 285, 210, 2669, 471, 973, 292, 607, 2358, 1069, 1667, 720, 550, 2039, 754, 578, 398, 370, 601, 496, 698, 1879, 952, 772, 156, 138, 60, 191, 10534, 233, 1125, 780, 3, 50, 1990, 1938, 13257, 150, 645, 833, 8238, 601, 4480, 1118, 637, 1571, 3082, 941, 536, 154, 1589, 542, 1482, 475, 746, 2226, 226, 1246, 629, 1497, 9413, 714, 399, 17, 107, 1011, 107, 1349, 281, 17, 196, 1043, 3856, 167, 470, 1300, 362, 440, 358, 1630, 1708, 939, 1034, 87, 1254, 1075, 5032, 53222]\n",
      "633.0\n"
     ]
    },
    {
     "data": {
      "image/svg+xml": [
       "<svg xmlns=\"http://www.w3.org/2000/svg\" width=\"530.0\" height=\"340\">\n",
       "<defs><marker id=\"arrow\" markerWidth=\"10\" markerHeight=\"10\" refX=\"9\" refY=\"3\" orient=\"auto\">\n",
       "<path d=\"M0,0 L0,6 L9,3 z\" fill=\"gray\"/></marker></defs>\n",
       "<path stroke-width=\"1\" stroke=\"gray\" d=\"M 36 320 147 181\" marker-end=\"url(#arrow)\"/>\n",
       "<path stroke-width=\"1\" stroke=\"gray\" d=\"M 420 162 178 166\" marker-end=\"url(#arrow)\"/>\n",
       "<path stroke-width=\"1\" stroke=\"gray\" d=\"M 20 20 146 152\" marker-end=\"url(#arrow)\"/>\n",
       "<circle cx=\"36\" cy=\"320\" r=\"1.0300157977883095\" style=\"fill:gray;stroke:black;stroke-width:1.0\"/>\n",
       "<circle cx=\"420\" cy=\"162\" r=\"1.0600315955766193\" style=\"fill:gray;stroke:black;stroke-width:1.0\"/>\n",
       "<circle cx=\"20\" cy=\"20\" r=\"1.0900473933649288\" style=\"fill:gray;stroke:black;stroke-width:1.0\"/>\n",
       "<circle cx=\"159\" cy=\"166\" r=\"20.0\" style=\"fill:gray;stroke:black;stroke-width:1.0\"/>\n",
       "<text x=\"48\" y=\"321\" font-size=\"12\">gabihernandezuy</text><text x=\"431\" y=\"163\" font-size=\"12\">jmseitun</text><text x=\"31\" y=\"21\" font-size=\"12\">maguitolosa1</text><text x=\"189\" y=\"186\" font-size=\"12\">santi_comba</text></svg>"
      ],
      "text/plain": [
       "<IPython.core.display.SVG object>"
      ]
     },
     "execution_count": 20,
     "metadata": {},
     "output_type": "execute_result"
    }
   ],
   "source": [
    "media = get_median_followers_of_own_followers(santi_comba_regular_followers)\n",
    "node_weights = np.array([1,2,3,media])\n",
    "\n",
    "image = svg_digraph(graph.adjacency,names =graph.names, display_node_weight=True, node_weights=node_weights)\n",
    "SVG(image)"
   ]
  },
  {
   "cell_type": "code",
   "execution_count": null,
   "id": "d2bcf190",
   "metadata": {},
   "outputs": [],
   "source": []
  }
 ],
 "metadata": {
  "kernelspec": {
   "display_name": "Python 3",
   "language": "python",
   "name": "python3"
  },
  "language_info": {
   "codemirror_mode": {
    "name": "ipython",
    "version": 3
   },
   "file_extension": ".py",
   "mimetype": "text/x-python",
   "name": "python",
   "nbconvert_exporter": "python",
   "pygments_lexer": "ipython3",
   "version": "3.8.5"
  }
 },
 "nbformat": 4,
 "nbformat_minor": 5
}
